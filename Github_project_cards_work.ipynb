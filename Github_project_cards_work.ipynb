{
 "cells": [
  {
   "cell_type": "markdown",
   "metadata": {},
   "source": [
    "# Project Management with the Github API \n",
    "## Primary Goal: Create new organization level project cards for all existing issues.\n",
    "- Open issues will be placed in the `Triage` column\n",
    "- Closed issues will have cards loaded in the `Deployed` column"
   ]
  },
  {
   "cell_type": "markdown",
   "metadata": {},
   "source": [
    "Before you start:\n",
    "You must have a github token and collaboration rights to the projects and repositories you're trying to access."
   ]
  },
  {
   "cell_type": "code",
   "execution_count": 1,
   "metadata": {},
   "outputs": [],
   "source": [
    "#load modules\n",
    "import requests\n",
    "import os\n",
    "from pprint import pprint\n",
    "import config #Where I save my Github token\n",
    "import pandas as pd\n",
    "import json"
   ]
  },
  {
   "cell_type": "markdown",
   "metadata": {},
   "source": [
    "## Let's start by getting a list of all the open issues in the repository of interest."
   ]
  },
  {
   "cell_type": "code",
   "execution_count": 86,
   "metadata": {},
   "outputs": [],
   "source": [
    "# Define the input parameters\n",
    "token = config.GITHUB_TOKEN\n",
    "acc = \"application/vnd.github.inertia-preview+json\" #this is the Accept type you must have for working with Projects in the current Github Api\n",
    "params = {\"content_type\" : \"Issue\", \"state\":\"open\"} #notice the content type is for issues and the issue state is open\n",
    "HEADERS = {'Accept': f'{acc}','Authorization': f'token {token}'}\n",
    "OWNER = \"Thinkful-Ed\"\n",
    "REPO = \"technical-project-management-programs\""
   ]
  },
  {
   "cell_type": "code",
   "execution_count": 87,
   "metadata": {
    "tags": []
   },
   "outputs": [
    {
     "name": "stdout",
     "output_type": "stream",
     "text": [
      "\tNext Page: https://api.github.com/repositories/255397493/issues?content_type=Issue&state=open&page=2\n",
      "\tNext Page: https://api.github.com/repositories/255397493/issues?content_type=Issue&state=open&page=3\n"
     ]
    }
   ],
   "source": [
    "# get all the open issues from a specific repository in a dictionary\n",
    "\n",
    "ISSUES_DICT = {}\n",
    "def get_issues_by_repository(repository):\n",
    "    url = \"https://api.github.com/repos/{}/{}/issues\".format(OWNER, repository)\n",
    "    headers = HEADERS\n",
    "    r = requests.get(\n",
    "        url=url,\n",
    "        headers=headers, \n",
    "        params=params\n",
    "\n",
    "    )\n",
    "    issues = r.json()\n",
    "    while \"next\" in r.links:\n",
    "        print(\"\\tNext Page: {}\".format(r.links[\"next\"][\"url\"]))\n",
    "        r = requests.get(\n",
    "            url=r.links[\"next\"][\"url\"],\n",
    "            headers=headers,\n",
    "            params=params\n",
    "        )\n",
    "        issues.extend(r.json())\n",
    "    ISSUES_DICT.update({repository: issues})\n",
    "    return issues\n",
    "\n",
    "issue_dict = get_issues_by_repository(REPO)"
   ]
  },
  {
   "cell_type": "code",
   "execution_count": 88,
   "metadata": {},
   "outputs": [
    {
     "data": {
      "text/plain": [
       "85"
      ]
     },
     "execution_count": 88,
     "metadata": {},
     "output_type": "execute_result"
    }
   ],
   "source": [
    "## Let's see how many open issues we have\n",
    "len(issue_dict)"
   ]
  },
  {
   "cell_type": "code",
   "execution_count": 7,
   "metadata": {},
   "outputs": [
    {
     "data": {
      "text/plain": [
       "Index(['url', 'repository_url', 'labels_url', 'comments_url', 'events_url',\n",
       "       'html_url', 'id', 'node_id', 'number', 'title', 'user', 'labels',\n",
       "       'state', 'locked', 'assignee', 'assignees', 'milestone', 'comments',\n",
       "       'created_at', 'updated_at', 'closed_at', 'author_association',\n",
       "       'active_lock_reason', 'body', 'performed_via_github_app',\n",
       "       'pull_request'],\n",
       "      dtype='object')"
      ]
     },
     "execution_count": 7,
     "metadata": {},
     "output_type": "execute_result"
    }
   ],
   "source": [
    "## Create a pandas dataframe from the open issues \n",
    "df = pd.DataFrame.from_dict(issue_dict)\n",
    "df.columns"
   ]
  },
  {
   "cell_type": "markdown",
   "metadata": {},
   "source": [
    "This dataframe has loads of useful information about the issues submitted. We can investigate that further in a bit. Let's confirm we only have issues that are still open in our data by checking the value counts of 'state'."
   ]
  },
  {
   "cell_type": "code",
   "execution_count": 8,
   "metadata": {},
   "outputs": [
    {
     "data": {
      "text/plain": [
       "open    85\n",
       "Name: state, dtype: int64"
      ]
     },
     "execution_count": 8,
     "metadata": {},
     "output_type": "execute_result"
    }
   ],
   "source": [
    "df.state.value_counts()"
   ]
  },
  {
   "cell_type": "markdown",
   "metadata": {},
   "source": [
    "Looks all good. We now need to shift over to the project. In this particular case the project is at the organization level rather than within the repository where the issues are located. * If this is the case in your project before proceeding make sure to link the repository of the issues to the project.*"
   ]
  },
  {
   "cell_type": "code",
   "execution_count": 41,
   "metadata": {
    "tags": []
   },
   "outputs": [
    {
     "name": "stdout",
     "output_type": "stream",
     "text": [
      "<class 'list'>\n",
      "<class 'list'>\n"
     ]
    }
   ],
   "source": [
    "#lets collect some info about our projects\n",
    "#List all the projects in our organization\n",
    "query_url = f\"https://api.github.com/orgs/{OWNER}/projects\"\n",
    "r = requests.get(query_url, headers=HEADERS, params=params)\n",
    "obj = r.json()\n",
    "print(type(obj))"
   ]
  },
  {
   "cell_type": "code",
   "execution_count": 62,
   "metadata": {
    "tags": []
   },
   "outputs": [
    {
     "name": "stdout",
     "output_type": "stream",
     "text": [
      "Web Dev Curriculum Maintenance\t 1519578\n",
      "Design Curriculum Maintenance\t 2511356\n",
      "Data Science Curriculum Maintenance\t 2511361\n",
      "Data Analytics Curriculum Maintenance\t 2511363\n",
      "Thinkful Engineering Curriculum Maintenance\t 2568836\n",
      "Web Dev Instructor Feedback\t 3052319\n",
      "Product Management Maintenance\t 3798803\n",
      "Technical Project Management Maintenance\t 5517614\n"
     ]
    }
   ],
   "source": [
    "#print project names and id's\n",
    "project_names = [item['name'] for item in obj]\n",
    "project_ids = [item['id'] for item in obj]\n",
    "for i in range(len(project_names)):\n",
    "    print(project_names[i] + '\\t ' + str(project_ids[i]))"
   ]
  },
  {
   "cell_type": "markdown",
   "metadata": {},
   "source": [
    "Great, now we can look at all the metadata about our projects. Specifically we want to find the project id for the project we are interested in adding issue cards to."
   ]
  },
  {
   "cell_type": "code",
   "execution_count": 71,
   "metadata": {},
   "outputs": [
    {
     "data": {
      "text/plain": [
       "['Triage',\n",
       " 'Backlog',\n",
       " '🔥🔥🔥🔥🔥',\n",
       " 'In progress',\n",
       " 'Instructional Designer',\n",
       " 'High priority for SMEs',\n",
       " 'Deployed']"
      ]
     },
     "execution_count": 71,
     "metadata": {},
     "output_type": "execute_result"
    }
   ],
   "source": [
    "#update our url with the specific project id and take a look at the cards in that project\n",
    "proj_id = '5517614'\n",
    "proj_url =f'https://api.github.com/projects/{proj_id}/columns'\n",
    "r = requests.get(proj_url, headers=HEADERS, params=params)\n",
    "obj = r.json()\n",
    "card_names = [item['name'] for item in obj]\n",
    "card_names"
   ]
  },
  {
   "cell_type": "code",
   "execution_count": 78,
   "metadata": {},
   "outputs": [
    {
     "data": {
      "text/plain": [
       "10926017"
      ]
     },
     "execution_count": 78,
     "metadata": {},
     "output_type": "execute_result"
    }
   ],
   "source": [
    "#let's use the name to find the Triage column id\n",
    "card_id = [item['id'] for item in obj if item['name'] == 'Triage'][0]\n",
    "card_id"
   ]
  },
  {
   "cell_type": "markdown",
   "metadata": {},
   "source": [
    "## Using the API to create new project cards\n",
    "The key parameters here are setting the \"content_id\" to the issue.id and the \"content_type\" to \"Issues\". For creating new project cards for pull requests then change the \"content_id\" to pullrequest.id and \"content_type\" to \"PullRequests\"."
   ]
  },
  {
   "cell_type": "code",
   "execution_count": 94,
   "metadata": {
    "tags": []
   },
   "outputs": [],
   "source": [
    "#write a function which ingests issues and create a card in the Triage column\n",
    "def create_card(issue_id):\n",
    "    payload = {\n",
    "        \"content_id\": issue_id,\n",
    "        \"content_type\": \"Issue\",\n",
    "    }\n",
    "    response = requests.post(f'https://api.github.com/projects/columns/{card_id}/cards', headers=HEADERS, data=json.dumps(payload))\n",
    "    print(response.json())\n",
    "    if response.status_code != 200:\n",
    "        response.raise_for_status()"
   ]
  },
  {
   "cell_type": "code",
   "execution_count": 83,
   "metadata": {},
   "outputs": [
    {
     "data": {
      "text/plain": [
       "[708461457, 707613667, 707457515]"
      ]
     },
     "execution_count": 83,
     "metadata": {},
     "output_type": "execute_result"
    }
   ],
   "source": [
    "#create a list of the issue id's from the issue dictionary\n",
    "issue_list2 = [item['id'] for item in issue_dict]\n",
    "issue_list2[:3]"
   ]
  },
  {
   "cell_type": "code",
   "execution_count": 112,
   "metadata": {
    "tags": [
     "outputPrepend"
    ]
   },
   "outputs": [
    {
     "name": "stdout",
     "output_type": "stream",
     "text": [
      "events', 'type': 'User', 'site_admin': False}, 'created_at': '2020-09-25T19:05:25Z', 'updated_at': '2020-09-25T19:05:25Z', 'column_url': 'https://api.github.com/projects/columns/10926017', 'content_url': 'https://api.github.com/repos/Thinkful-Ed/technical-project-management-programs/issues/27'}\n",
      "{'url': 'https://api.github.com/projects/columns/cards/46198398', 'project_url': 'https://api.github.com/projects/5517614', 'id': 46198398, 'node_id': 'MDExOlByb2plY3RDYXJkNDYxOTgzOTg=', 'note': None, 'archived': False, 'creator': {'login': 'AVJdataminer', 'id': 30507129, 'node_id': 'MDQ6VXNlcjMwNTA3MTI5', 'avatar_url': 'https://avatars0.githubusercontent.com/u/30507129?u=32df99b5d9bd9812ff17d3b295a682b5d840bcc2&v=4', 'gravatar_id': '', 'url': 'https://api.github.com/users/AVJdataminer', 'html_url': 'https://github.com/AVJdataminer', 'followers_url': 'https://api.github.com/users/AVJdataminer/followers', 'following_url': 'https://api.github.com/users/AVJdataminer/following{/other_user}', 'gists_url': 'https://api.github.com/users/AVJdataminer/gists{/gist_id}', 'starred_url': 'https://api.github.com/users/AVJdataminer/starred{/owner}{/repo}', 'subscriptions_url': 'https://api.github.com/users/AVJdataminer/subscriptions', 'organizations_url': 'https://api.github.com/users/AVJdataminer/orgs', 'repos_url': 'https://api.github.com/users/AVJdataminer/repos', 'events_url': 'https://api.github.com/users/AVJdataminer/events{/privacy}', 'received_events_url': 'https://api.github.com/users/AVJdataminer/received_events', 'type': 'User', 'site_admin': False}, 'created_at': '2020-09-25T19:05:27Z', 'updated_at': '2020-09-25T19:05:27Z', 'column_url': 'https://api.github.com/projects/columns/10926017', 'content_url': 'https://api.github.com/repos/Thinkful-Ed/technical-project-management-programs/issues/26'}\n",
      "{'url': 'https://api.github.com/projects/columns/cards/46198399', 'project_url': 'https://api.github.com/projects/5517614', 'id': 46198399, 'node_id': 'MDExOlByb2plY3RDYXJkNDYxOTgzOTk=', 'note': None, 'archived': False, 'creator': {'login': 'AVJdataminer', 'id': 30507129, 'node_id': 'MDQ6VXNlcjMwNTA3MTI5', 'avatar_url': 'https://avatars0.githubusercontent.com/u/30507129?u=32df99b5d9bd9812ff17d3b295a682b5d840bcc2&v=4', 'gravatar_id': '', 'url': 'https://api.github.com/users/AVJdataminer', 'html_url': 'https://github.com/AVJdataminer', 'followers_url': 'https://api.github.com/users/AVJdataminer/followers', 'following_url': 'https://api.github.com/users/AVJdataminer/following{/other_user}', 'gists_url': 'https://api.github.com/users/AVJdataminer/gists{/gist_id}', 'starred_url': 'https://api.github.com/users/AVJdataminer/starred{/owner}{/repo}', 'subscriptions_url': 'https://api.github.com/users/AVJdataminer/subscriptions', 'organizations_url': 'https://api.github.com/users/AVJdataminer/orgs', 'repos_url': 'https://api.github.com/users/AVJdataminer/repos', 'events_url': 'https://api.github.com/users/AVJdataminer/events{/privacy}', 'received_events_url': 'https://api.github.com/users/AVJdataminer/received_events', 'type': 'User', 'site_admin': False}, 'created_at': '2020-09-25T19:05:28Z', 'updated_at': '2020-09-25T19:05:28Z', 'column_url': 'https://api.github.com/projects/columns/10926017', 'content_url': 'https://api.github.com/repos/Thinkful-Ed/technical-project-management-programs/issues/25'}\n",
      "{'url': 'https://api.github.com/projects/columns/cards/46198400', 'project_url': 'https://api.github.com/projects/5517614', 'id': 46198400, 'node_id': 'MDExOlByb2plY3RDYXJkNDYxOTg0MDA=', 'note': None, 'archived': False, 'creator': {'login': 'AVJdataminer', 'id': 30507129, 'node_id': 'MDQ6VXNlcjMwNTA3MTI5', 'avatar_url': 'https://avatars0.githubusercontent.com/u/30507129?u=32df99b5d9bd9812ff17d3b295a682b5d840bcc2&v=4', 'gravatar_id': '', 'url': 'https://api.github.com/users/AVJdataminer', 'html_url': 'https://github.com/AVJdataminer', 'followers_url': 'https://api.github.com/users/AVJdataminer/followers', 'following_url': 'https://api.github.com/users/AVJdataminer/following{/other_user}', 'gists_url': 'https://api.github.com/users/AVJdataminer/gists{/gist_id}', 'starred_url': 'https://api.github.com/users/AVJdataminer/starred{/owner}{/repo}', 'subscriptions_url': 'https://api.github.com/users/AVJdataminer/subscriptions', 'organizations_url': 'https://api.github.com/users/AVJdataminer/orgs', 'repos_url': 'https://api.github.com/users/AVJdataminer/repos', 'events_url': 'https://api.github.com/users/AVJdataminer/events{/privacy}', 'received_events_url': 'https://api.github.com/users/AVJdataminer/received_events', 'type': 'User', 'site_admin': False}, 'created_at': '2020-09-25T19:05:29Z', 'updated_at': '2020-09-25T19:05:29Z', 'column_url': 'https://api.github.com/projects/columns/10926017', 'content_url': 'https://api.github.com/repos/Thinkful-Ed/technical-project-management-programs/issues/24'}\n",
      "{'url': 'https://api.github.com/projects/columns/cards/46198405', 'project_url': 'https://api.github.com/projects/5517614', 'id': 46198405, 'node_id': 'MDExOlByb2plY3RDYXJkNDYxOTg0MDU=', 'note': None, 'archived': False, 'creator': {'login': 'AVJdataminer', 'id': 30507129, 'node_id': 'MDQ6VXNlcjMwNTA3MTI5', 'avatar_url': 'https://avatars0.githubusercontent.com/u/30507129?u=32df99b5d9bd9812ff17d3b295a682b5d840bcc2&v=4', 'gravatar_id': '', 'url': 'https://api.github.com/users/AVJdataminer', 'html_url': 'https://github.com/AVJdataminer', 'followers_url': 'https://api.github.com/users/AVJdataminer/followers', 'following_url': 'https://api.github.com/users/AVJdataminer/following{/other_user}', 'gists_url': 'https://api.github.com/users/AVJdataminer/gists{/gist_id}', 'starred_url': 'https://api.github.com/users/AVJdataminer/starred{/owner}{/repo}', 'subscriptions_url': 'https://api.github.com/users/AVJdataminer/subscriptions', 'organizations_url': 'https://api.github.com/users/AVJdataminer/orgs', 'repos_url': 'https://api.github.com/users/AVJdataminer/repos', 'events_url': 'https://api.github.com/users/AVJdataminer/events{/privacy}', 'received_events_url': 'https://api.github.com/users/AVJdataminer/received_events', 'type': 'User', 'site_admin': False}, 'created_at': '2020-09-25T19:05:30Z', 'updated_at': '2020-09-25T19:05:30Z', 'column_url': 'https://api.github.com/projects/columns/10926017', 'content_url': 'https://api.github.com/repos/Thinkful-Ed/technical-project-management-programs/issues/22'}\n",
      "{'url': 'https://api.github.com/projects/columns/cards/46198406', 'project_url': 'https://api.github.com/projects/5517614', 'id': 46198406, 'node_id': 'MDExOlByb2plY3RDYXJkNDYxOTg0MDY=', 'note': None, 'archived': False, 'creator': {'login': 'AVJdataminer', 'id': 30507129, 'node_id': 'MDQ6VXNlcjMwNTA3MTI5', 'avatar_url': 'https://avatars0.githubusercontent.com/u/30507129?u=32df99b5d9bd9812ff17d3b295a682b5d840bcc2&v=4', 'gravatar_id': '', 'url': 'https://api.github.com/users/AVJdataminer', 'html_url': 'https://github.com/AVJdataminer', 'followers_url': 'https://api.github.com/users/AVJdataminer/followers', 'following_url': 'https://api.github.com/users/AVJdataminer/following{/other_user}', 'gists_url': 'https://api.github.com/users/AVJdataminer/gists{/gist_id}', 'starred_url': 'https://api.github.com/users/AVJdataminer/starred{/owner}{/repo}', 'subscriptions_url': 'https://api.github.com/users/AVJdataminer/subscriptions', 'organizations_url': 'https://api.github.com/users/AVJdataminer/orgs', 'repos_url': 'https://api.github.com/users/AVJdataminer/repos', 'events_url': 'https://api.github.com/users/AVJdataminer/events{/privacy}', 'received_events_url': 'https://api.github.com/users/AVJdataminer/received_events', 'type': 'User', 'site_admin': False}, 'created_at': '2020-09-25T19:05:31Z', 'updated_at': '2020-09-25T19:05:31Z', 'column_url': 'https://api.github.com/projects/columns/10926017', 'content_url': 'https://api.github.com/repos/Thinkful-Ed/technical-project-management-programs/issues/17'}\n",
      "{'url': 'https://api.github.com/projects/columns/cards/46198408', 'project_url': 'https://api.github.com/projects/5517614', 'id': 46198408, 'node_id': 'MDExOlByb2plY3RDYXJkNDYxOTg0MDg=', 'note': None, 'archived': False, 'creator': {'login': 'AVJdataminer', 'id': 30507129, 'node_id': 'MDQ6VXNlcjMwNTA3MTI5', 'avatar_url': 'https://avatars0.githubusercontent.com/u/30507129?u=32df99b5d9bd9812ff17d3b295a682b5d840bcc2&v=4', 'gravatar_id': '', 'url': 'https://api.github.com/users/AVJdataminer', 'html_url': 'https://github.com/AVJdataminer', 'followers_url': 'https://api.github.com/users/AVJdataminer/followers', 'following_url': 'https://api.github.com/users/AVJdataminer/following{/other_user}', 'gists_url': 'https://api.github.com/users/AVJdataminer/gists{/gist_id}', 'starred_url': 'https://api.github.com/users/AVJdataminer/starred{/owner}{/repo}', 'subscriptions_url': 'https://api.github.com/users/AVJdataminer/subscriptions', 'organizations_url': 'https://api.github.com/users/AVJdataminer/orgs', 'repos_url': 'https://api.github.com/users/AVJdataminer/repos', 'events_url': 'https://api.github.com/users/AVJdataminer/events{/privacy}', 'received_events_url': 'https://api.github.com/users/AVJdataminer/received_events', 'type': 'User', 'site_admin': False}, 'created_at': '2020-09-25T19:05:32Z', 'updated_at': '2020-09-25T19:05:32Z', 'column_url': 'https://api.github.com/projects/columns/10926017', 'content_url': 'https://api.github.com/repos/Thinkful-Ed/technical-project-management-programs/issues/15'}\n",
      "{'url': 'https://api.github.com/projects/columns/cards/46198409', 'project_url': 'https://api.github.com/projects/5517614', 'id': 46198409, 'node_id': 'MDExOlByb2plY3RDYXJkNDYxOTg0MDk=', 'note': None, 'archived': False, 'creator': {'login': 'AVJdataminer', 'id': 30507129, 'node_id': 'MDQ6VXNlcjMwNTA3MTI5', 'avatar_url': 'https://avatars0.githubusercontent.com/u/30507129?u=32df99b5d9bd9812ff17d3b295a682b5d840bcc2&v=4', 'gravatar_id': '', 'url': 'https://api.github.com/users/AVJdataminer', 'html_url': 'https://github.com/AVJdataminer', 'followers_url': 'https://api.github.com/users/AVJdataminer/followers', 'following_url': 'https://api.github.com/users/AVJdataminer/following{/other_user}', 'gists_url': 'https://api.github.com/users/AVJdataminer/gists{/gist_id}', 'starred_url': 'https://api.github.com/users/AVJdataminer/starred{/owner}{/repo}', 'subscriptions_url': 'https://api.github.com/users/AVJdataminer/subscriptions', 'organizations_url': 'https://api.github.com/users/AVJdataminer/orgs', 'repos_url': 'https://api.github.com/users/AVJdataminer/repos', 'events_url': 'https://api.github.com/users/AVJdataminer/events{/privacy}', 'received_events_url': 'https://api.github.com/users/AVJdataminer/received_events', 'type': 'User', 'site_admin': False}, 'created_at': '2020-09-25T19:05:33Z', 'updated_at': '2020-09-25T19:05:33Z', 'column_url': 'https://api.github.com/projects/columns/10926017', 'content_url': 'https://api.github.com/repos/Thinkful-Ed/technical-project-management-programs/issues/14'}\n",
      "{'url': 'https://api.github.com/projects/columns/cards/46198411', 'project_url': 'https://api.github.com/projects/5517614', 'id': 46198411, 'node_id': 'MDExOlByb2plY3RDYXJkNDYxOTg0MTE=', 'note': None, 'archived': False, 'creator': {'login': 'AVJdataminer', 'id': 30507129, 'node_id': 'MDQ6VXNlcjMwNTA3MTI5', 'avatar_url': 'https://avatars0.githubusercontent.com/u/30507129?u=32df99b5d9bd9812ff17d3b295a682b5d840bcc2&v=4', 'gravatar_id': '', 'url': 'https://api.github.com/users/AVJdataminer', 'html_url': 'https://github.com/AVJdataminer', 'followers_url': 'https://api.github.com/users/AVJdataminer/followers', 'following_url': 'https://api.github.com/users/AVJdataminer/following{/other_user}', 'gists_url': 'https://api.github.com/users/AVJdataminer/gists{/gist_id}', 'starred_url': 'https://api.github.com/users/AVJdataminer/starred{/owner}{/repo}', 'subscriptions_url': 'https://api.github.com/users/AVJdataminer/subscriptions', 'organizations_url': 'https://api.github.com/users/AVJdataminer/orgs', 'repos_url': 'https://api.github.com/users/AVJdataminer/repos', 'events_url': 'https://api.github.com/users/AVJdataminer/events{/privacy}', 'received_events_url': 'https://api.github.com/users/AVJdataminer/received_events', 'type': 'User', 'site_admin': False}, 'created_at': '2020-09-25T19:05:34Z', 'updated_at': '2020-09-25T19:05:34Z', 'column_url': 'https://api.github.com/projects/columns/10926017', 'content_url': 'https://api.github.com/repos/Thinkful-Ed/technical-project-management-programs/issues/13'}\n",
      "{'url': 'https://api.github.com/projects/columns/cards/46198413', 'project_url': 'https://api.github.com/projects/5517614', 'id': 46198413, 'node_id': 'MDExOlByb2plY3RDYXJkNDYxOTg0MTM=', 'note': None, 'archived': False, 'creator': {'login': 'AVJdataminer', 'id': 30507129, 'node_id': 'MDQ6VXNlcjMwNTA3MTI5', 'avatar_url': 'https://avatars0.githubusercontent.com/u/30507129?u=32df99b5d9bd9812ff17d3b295a682b5d840bcc2&v=4', 'gravatar_id': '', 'url': 'https://api.github.com/users/AVJdataminer', 'html_url': 'https://github.com/AVJdataminer', 'followers_url': 'https://api.github.com/users/AVJdataminer/followers', 'following_url': 'https://api.github.com/users/AVJdataminer/following{/other_user}', 'gists_url': 'https://api.github.com/users/AVJdataminer/gists{/gist_id}', 'starred_url': 'https://api.github.com/users/AVJdataminer/starred{/owner}{/repo}', 'subscriptions_url': 'https://api.github.com/users/AVJdataminer/subscriptions', 'organizations_url': 'https://api.github.com/users/AVJdataminer/orgs', 'repos_url': 'https://api.github.com/users/AVJdataminer/repos', 'events_url': 'https://api.github.com/users/AVJdataminer/events{/privacy}', 'received_events_url': 'https://api.github.com/users/AVJdataminer/received_events', 'type': 'User', 'site_admin': False}, 'created_at': '2020-09-25T19:05:35Z', 'updated_at': '2020-09-25T19:05:35Z', 'column_url': 'https://api.github.com/projects/columns/10926017', 'content_url': 'https://api.github.com/repos/Thinkful-Ed/technical-project-management-programs/issues/10'}\n",
      "{'url': 'https://api.github.com/projects/columns/cards/46198414', 'project_url': 'https://api.github.com/projects/5517614', 'id': 46198414, 'node_id': 'MDExOlByb2plY3RDYXJkNDYxOTg0MTQ=', 'note': None, 'archived': False, 'creator': {'login': 'AVJdataminer', 'id': 30507129, 'node_id': 'MDQ6VXNlcjMwNTA3MTI5', 'avatar_url': 'https://avatars0.githubusercontent.com/u/30507129?u=32df99b5d9bd9812ff17d3b295a682b5d840bcc2&v=4', 'gravatar_id': '', 'url': 'https://api.github.com/users/AVJdataminer', 'html_url': 'https://github.com/AVJdataminer', 'followers_url': 'https://api.github.com/users/AVJdataminer/followers', 'following_url': 'https://api.github.com/users/AVJdataminer/following{/other_user}', 'gists_url': 'https://api.github.com/users/AVJdataminer/gists{/gist_id}', 'starred_url': 'https://api.github.com/users/AVJdataminer/starred{/owner}{/repo}', 'subscriptions_url': 'https://api.github.com/users/AVJdataminer/subscriptions', 'organizations_url': 'https://api.github.com/users/AVJdataminer/orgs', 'repos_url': 'https://api.github.com/users/AVJdataminer/repos', 'events_url': 'https://api.github.com/users/AVJdataminer/events{/privacy}', 'received_events_url': 'https://api.github.com/users/AVJdataminer/received_events', 'type': 'User', 'site_admin': False}, 'created_at': '2020-09-25T19:05:36Z', 'updated_at': '2020-09-25T19:05:36Z', 'column_url': 'https://api.github.com/projects/columns/10926017', 'content_url': 'https://api.github.com/repos/Thinkful-Ed/technical-project-management-programs/issues/8'}\n",
      "{'url': 'https://api.github.com/projects/columns/cards/46198416', 'project_url': 'https://api.github.com/projects/5517614', 'id': 46198416, 'node_id': 'MDExOlByb2plY3RDYXJkNDYxOTg0MTY=', 'note': None, 'archived': False, 'creator': {'login': 'AVJdataminer', 'id': 30507129, 'node_id': 'MDQ6VXNlcjMwNTA3MTI5', 'avatar_url': 'https://avatars0.githubusercontent.com/u/30507129?u=32df99b5d9bd9812ff17d3b295a682b5d840bcc2&v=4', 'gravatar_id': '', 'url': 'https://api.github.com/users/AVJdataminer', 'html_url': 'https://github.com/AVJdataminer', 'followers_url': 'https://api.github.com/users/AVJdataminer/followers', 'following_url': 'https://api.github.com/users/AVJdataminer/following{/other_user}', 'gists_url': 'https://api.github.com/users/AVJdataminer/gists{/gist_id}', 'starred_url': 'https://api.github.com/users/AVJdataminer/starred{/owner}{/repo}', 'subscriptions_url': 'https://api.github.com/users/AVJdataminer/subscriptions', 'organizations_url': 'https://api.github.com/users/AVJdataminer/orgs', 'repos_url': 'https://api.github.com/users/AVJdataminer/repos', 'events_url': 'https://api.github.com/users/AVJdataminer/events{/privacy}', 'received_events_url': 'https://api.github.com/users/AVJdataminer/received_events', 'type': 'User', 'site_admin': False}, 'created_at': '2020-09-25T19:05:38Z', 'updated_at': '2020-09-25T19:05:38Z', 'column_url': 'https://api.github.com/projects/columns/10926017', 'content_url': 'https://api.github.com/repos/Thinkful-Ed/technical-project-management-programs/issues/7'}\n",
      "{'url': 'https://api.github.com/projects/columns/cards/46198418', 'project_url': 'https://api.github.com/projects/5517614', 'id': 46198418, 'node_id': 'MDExOlByb2plY3RDYXJkNDYxOTg0MTg=', 'note': None, 'archived': False, 'creator': {'login': 'AVJdataminer', 'id': 30507129, 'node_id': 'MDQ6VXNlcjMwNTA3MTI5', 'avatar_url': 'https://avatars0.githubusercontent.com/u/30507129?u=32df99b5d9bd9812ff17d3b295a682b5d840bcc2&v=4', 'gravatar_id': '', 'url': 'https://api.github.com/users/AVJdataminer', 'html_url': 'https://github.com/AVJdataminer', 'followers_url': 'https://api.github.com/users/AVJdataminer/followers', 'following_url': 'https://api.github.com/users/AVJdataminer/following{/other_user}', 'gists_url': 'https://api.github.com/users/AVJdataminer/gists{/gist_id}', 'starred_url': 'https://api.github.com/users/AVJdataminer/starred{/owner}{/repo}', 'subscriptions_url': 'https://api.github.com/users/AVJdataminer/subscriptions', 'organizations_url': 'https://api.github.com/users/AVJdataminer/orgs', 'repos_url': 'https://api.github.com/users/AVJdataminer/repos', 'events_url': 'https://api.github.com/users/AVJdataminer/events{/privacy}', 'received_events_url': 'https://api.github.com/users/AVJdataminer/received_events', 'type': 'User', 'site_admin': False}, 'created_at': '2020-09-25T19:05:39Z', 'updated_at': '2020-09-25T19:05:39Z', 'column_url': 'https://api.github.com/projects/columns/10926017', 'content_url': 'https://api.github.com/repos/Thinkful-Ed/technical-project-management-programs/issues/6'}\n",
      "{'url': 'https://api.github.com/projects/columns/cards/46198420', 'project_url': 'https://api.github.com/projects/5517614', 'id': 46198420, 'node_id': 'MDExOlByb2plY3RDYXJkNDYxOTg0MjA=', 'note': None, 'archived': False, 'creator': {'login': 'AVJdataminer', 'id': 30507129, 'node_id': 'MDQ6VXNlcjMwNTA3MTI5', 'avatar_url': 'https://avatars0.githubusercontent.com/u/30507129?u=32df99b5d9bd9812ff17d3b295a682b5d840bcc2&v=4', 'gravatar_id': '', 'url': 'https://api.github.com/users/AVJdataminer', 'html_url': 'https://github.com/AVJdataminer', 'followers_url': 'https://api.github.com/users/AVJdataminer/followers', 'following_url': 'https://api.github.com/users/AVJdataminer/following{/other_user}', 'gists_url': 'https://api.github.com/users/AVJdataminer/gists{/gist_id}', 'starred_url': 'https://api.github.com/users/AVJdataminer/starred{/owner}{/repo}', 'subscriptions_url': 'https://api.github.com/users/AVJdataminer/subscriptions', 'organizations_url': 'https://api.github.com/users/AVJdataminer/orgs', 'repos_url': 'https://api.github.com/users/AVJdataminer/repos', 'events_url': 'https://api.github.com/users/AVJdataminer/events{/privacy}', 'received_events_url': 'https://api.github.com/users/AVJdataminer/received_events', 'type': 'User', 'site_admin': False}, 'created_at': '2020-09-25T19:05:40Z', 'updated_at': '2020-09-25T19:05:40Z', 'column_url': 'https://api.github.com/projects/columns/10926017', 'content_url': 'https://api.github.com/repos/Thinkful-Ed/technical-project-management-programs/issues/5'}\n"
     ]
    }
   ],
   "source": [
    "#use a for loop to feed in all the issue id's from the list\n",
    "for i in issue_list2:\n",
    "    create_card(i)"
   ]
  },
  {
   "cell_type": "markdown",
   "metadata": {},
   "source": [
    "## Create a list of of closed tickets to add to the deployed column in our project\n"
   ]
  },
  {
   "cell_type": "code",
   "execution_count": 91,
   "metadata": {
    "tags": []
   },
   "outputs": [
    {
     "name": "stdout",
     "output_type": "stream",
     "text": [
      "\tNext Page: https://api.github.com/repositories/255397493/issues?content_type=Issue&state=closed&page=2\n",
      "41\n"
     ]
    }
   ],
   "source": [
    "#update params to include only closed issues\n",
    "params = {\"content_type\" : \"Issue\", \"state\":\"closed\"}\n",
    "closed_issue_dict = get_issues_by_repository(REPO)\n",
    "print(len(closed_issue_dict)) #check the number of closed issues\n",
    "issue_list = [item['id'] for item in closed_issue_dict] #create a list of closed issue id's"
   ]
  },
  {
   "cell_type": "code",
   "execution_count": 92,
   "metadata": {},
   "outputs": [
    {
     "data": {
      "text/plain": [
       "10926023"
      ]
     },
     "execution_count": 92,
     "metadata": {},
     "output_type": "execute_result"
    }
   ],
   "source": [
    "#get the column id for the deployed column in the same project\n",
    "#let's use the name to find the Triage column id\n",
    "card_id = [item['id'] for item in obj if item['name'] == 'Deployed'][0]\n",
    "card_id"
   ]
  },
  {
   "cell_type": "code",
   "execution_count": 95,
   "metadata": {
    "tags": [
     "outputPrepend"
    ]
   },
   "outputs": [
    {
     "name": "stdout",
     "output_type": "stream",
     "text": [
      "_events', 'type': 'User', 'site_admin': False}, 'created_at': '2020-09-25T22:54:28Z', 'updated_at': '2020-09-25T22:54:28Z', 'column_url': 'https://api.github.com/projects/columns/10926023', 'content_url': 'https://api.github.com/repos/Thinkful-Ed/technical-project-management-programs/issues/29'}\n",
      "{'url': 'https://api.github.com/projects/columns/cards/46207829', 'project_url': 'https://api.github.com/projects/5517614', 'id': 46207829, 'node_id': 'MDExOlByb2plY3RDYXJkNDYyMDc4Mjk=', 'note': None, 'archived': False, 'creator': {'login': 'AVJdataminer', 'id': 30507129, 'node_id': 'MDQ6VXNlcjMwNTA3MTI5', 'avatar_url': 'https://avatars0.githubusercontent.com/u/30507129?u=32df99b5d9bd9812ff17d3b295a682b5d840bcc2&v=4', 'gravatar_id': '', 'url': 'https://api.github.com/users/AVJdataminer', 'html_url': 'https://github.com/AVJdataminer', 'followers_url': 'https://api.github.com/users/AVJdataminer/followers', 'following_url': 'https://api.github.com/users/AVJdataminer/following{/other_user}', 'gists_url': 'https://api.github.com/users/AVJdataminer/gists{/gist_id}', 'starred_url': 'https://api.github.com/users/AVJdataminer/starred{/owner}{/repo}', 'subscriptions_url': 'https://api.github.com/users/AVJdataminer/subscriptions', 'organizations_url': 'https://api.github.com/users/AVJdataminer/orgs', 'repos_url': 'https://api.github.com/users/AVJdataminer/repos', 'events_url': 'https://api.github.com/users/AVJdataminer/events{/privacy}', 'received_events_url': 'https://api.github.com/users/AVJdataminer/received_events', 'type': 'User', 'site_admin': False}, 'created_at': '2020-09-25T22:54:30Z', 'updated_at': '2020-09-25T22:54:30Z', 'column_url': 'https://api.github.com/projects/columns/10926023', 'content_url': 'https://api.github.com/repos/Thinkful-Ed/technical-project-management-programs/issues/23'}\n",
      "{'url': 'https://api.github.com/projects/columns/cards/46207830', 'project_url': 'https://api.github.com/projects/5517614', 'id': 46207830, 'node_id': 'MDExOlByb2plY3RDYXJkNDYyMDc4MzA=', 'note': None, 'archived': False, 'creator': {'login': 'AVJdataminer', 'id': 30507129, 'node_id': 'MDQ6VXNlcjMwNTA3MTI5', 'avatar_url': 'https://avatars0.githubusercontent.com/u/30507129?u=32df99b5d9bd9812ff17d3b295a682b5d840bcc2&v=4', 'gravatar_id': '', 'url': 'https://api.github.com/users/AVJdataminer', 'html_url': 'https://github.com/AVJdataminer', 'followers_url': 'https://api.github.com/users/AVJdataminer/followers', 'following_url': 'https://api.github.com/users/AVJdataminer/following{/other_user}', 'gists_url': 'https://api.github.com/users/AVJdataminer/gists{/gist_id}', 'starred_url': 'https://api.github.com/users/AVJdataminer/starred{/owner}{/repo}', 'subscriptions_url': 'https://api.github.com/users/AVJdataminer/subscriptions', 'organizations_url': 'https://api.github.com/users/AVJdataminer/orgs', 'repos_url': 'https://api.github.com/users/AVJdataminer/repos', 'events_url': 'https://api.github.com/users/AVJdataminer/events{/privacy}', 'received_events_url': 'https://api.github.com/users/AVJdataminer/received_events', 'type': 'User', 'site_admin': False}, 'created_at': '2020-09-25T22:54:30Z', 'updated_at': '2020-09-25T22:54:30Z', 'column_url': 'https://api.github.com/projects/columns/10926023', 'content_url': 'https://api.github.com/repos/Thinkful-Ed/technical-project-management-programs/issues/21'}\n",
      "{'url': 'https://api.github.com/projects/columns/cards/46207833', 'project_url': 'https://api.github.com/projects/5517614', 'id': 46207833, 'node_id': 'MDExOlByb2plY3RDYXJkNDYyMDc4MzM=', 'note': None, 'archived': False, 'creator': {'login': 'AVJdataminer', 'id': 30507129, 'node_id': 'MDQ6VXNlcjMwNTA3MTI5', 'avatar_url': 'https://avatars0.githubusercontent.com/u/30507129?u=32df99b5d9bd9812ff17d3b295a682b5d840bcc2&v=4', 'gravatar_id': '', 'url': 'https://api.github.com/users/AVJdataminer', 'html_url': 'https://github.com/AVJdataminer', 'followers_url': 'https://api.github.com/users/AVJdataminer/followers', 'following_url': 'https://api.github.com/users/AVJdataminer/following{/other_user}', 'gists_url': 'https://api.github.com/users/AVJdataminer/gists{/gist_id}', 'starred_url': 'https://api.github.com/users/AVJdataminer/starred{/owner}{/repo}', 'subscriptions_url': 'https://api.github.com/users/AVJdataminer/subscriptions', 'organizations_url': 'https://api.github.com/users/AVJdataminer/orgs', 'repos_url': 'https://api.github.com/users/AVJdataminer/repos', 'events_url': 'https://api.github.com/users/AVJdataminer/events{/privacy}', 'received_events_url': 'https://api.github.com/users/AVJdataminer/received_events', 'type': 'User', 'site_admin': False}, 'created_at': '2020-09-25T22:54:31Z', 'updated_at': '2020-09-25T22:54:31Z', 'column_url': 'https://api.github.com/projects/columns/10926023', 'content_url': 'https://api.github.com/repos/Thinkful-Ed/technical-project-management-programs/issues/20'}\n",
      "{'url': 'https://api.github.com/projects/columns/cards/46207834', 'project_url': 'https://api.github.com/projects/5517614', 'id': 46207834, 'node_id': 'MDExOlByb2plY3RDYXJkNDYyMDc4MzQ=', 'note': None, 'archived': False, 'creator': {'login': 'AVJdataminer', 'id': 30507129, 'node_id': 'MDQ6VXNlcjMwNTA3MTI5', 'avatar_url': 'https://avatars0.githubusercontent.com/u/30507129?u=32df99b5d9bd9812ff17d3b295a682b5d840bcc2&v=4', 'gravatar_id': '', 'url': 'https://api.github.com/users/AVJdataminer', 'html_url': 'https://github.com/AVJdataminer', 'followers_url': 'https://api.github.com/users/AVJdataminer/followers', 'following_url': 'https://api.github.com/users/AVJdataminer/following{/other_user}', 'gists_url': 'https://api.github.com/users/AVJdataminer/gists{/gist_id}', 'starred_url': 'https://api.github.com/users/AVJdataminer/starred{/owner}{/repo}', 'subscriptions_url': 'https://api.github.com/users/AVJdataminer/subscriptions', 'organizations_url': 'https://api.github.com/users/AVJdataminer/orgs', 'repos_url': 'https://api.github.com/users/AVJdataminer/repos', 'events_url': 'https://api.github.com/users/AVJdataminer/events{/privacy}', 'received_events_url': 'https://api.github.com/users/AVJdataminer/received_events', 'type': 'User', 'site_admin': False}, 'created_at': '2020-09-25T22:54:32Z', 'updated_at': '2020-09-25T22:54:32Z', 'column_url': 'https://api.github.com/projects/columns/10926023', 'content_url': 'https://api.github.com/repos/Thinkful-Ed/technical-project-management-programs/issues/19'}\n",
      "{'url': 'https://api.github.com/projects/columns/cards/46207836', 'project_url': 'https://api.github.com/projects/5517614', 'id': 46207836, 'node_id': 'MDExOlByb2plY3RDYXJkNDYyMDc4MzY=', 'note': None, 'archived': False, 'creator': {'login': 'AVJdataminer', 'id': 30507129, 'node_id': 'MDQ6VXNlcjMwNTA3MTI5', 'avatar_url': 'https://avatars0.githubusercontent.com/u/30507129?u=32df99b5d9bd9812ff17d3b295a682b5d840bcc2&v=4', 'gravatar_id': '', 'url': 'https://api.github.com/users/AVJdataminer', 'html_url': 'https://github.com/AVJdataminer', 'followers_url': 'https://api.github.com/users/AVJdataminer/followers', 'following_url': 'https://api.github.com/users/AVJdataminer/following{/other_user}', 'gists_url': 'https://api.github.com/users/AVJdataminer/gists{/gist_id}', 'starred_url': 'https://api.github.com/users/AVJdataminer/starred{/owner}{/repo}', 'subscriptions_url': 'https://api.github.com/users/AVJdataminer/subscriptions', 'organizations_url': 'https://api.github.com/users/AVJdataminer/orgs', 'repos_url': 'https://api.github.com/users/AVJdataminer/repos', 'events_url': 'https://api.github.com/users/AVJdataminer/events{/privacy}', 'received_events_url': 'https://api.github.com/users/AVJdataminer/received_events', 'type': 'User', 'site_admin': False}, 'created_at': '2020-09-25T22:54:33Z', 'updated_at': '2020-09-25T22:54:33Z', 'column_url': 'https://api.github.com/projects/columns/10926023', 'content_url': 'https://api.github.com/repos/Thinkful-Ed/technical-project-management-programs/issues/18'}\n",
      "{'url': 'https://api.github.com/projects/columns/cards/46207837', 'project_url': 'https://api.github.com/projects/5517614', 'id': 46207837, 'node_id': 'MDExOlByb2plY3RDYXJkNDYyMDc4Mzc=', 'note': None, 'archived': False, 'creator': {'login': 'AVJdataminer', 'id': 30507129, 'node_id': 'MDQ6VXNlcjMwNTA3MTI5', 'avatar_url': 'https://avatars0.githubusercontent.com/u/30507129?u=32df99b5d9bd9812ff17d3b295a682b5d840bcc2&v=4', 'gravatar_id': '', 'url': 'https://api.github.com/users/AVJdataminer', 'html_url': 'https://github.com/AVJdataminer', 'followers_url': 'https://api.github.com/users/AVJdataminer/followers', 'following_url': 'https://api.github.com/users/AVJdataminer/following{/other_user}', 'gists_url': 'https://api.github.com/users/AVJdataminer/gists{/gist_id}', 'starred_url': 'https://api.github.com/users/AVJdataminer/starred{/owner}{/repo}', 'subscriptions_url': 'https://api.github.com/users/AVJdataminer/subscriptions', 'organizations_url': 'https://api.github.com/users/AVJdataminer/orgs', 'repos_url': 'https://api.github.com/users/AVJdataminer/repos', 'events_url': 'https://api.github.com/users/AVJdataminer/events{/privacy}', 'received_events_url': 'https://api.github.com/users/AVJdataminer/received_events', 'type': 'User', 'site_admin': False}, 'created_at': '2020-09-25T22:54:34Z', 'updated_at': '2020-09-25T22:54:34Z', 'column_url': 'https://api.github.com/projects/columns/10926023', 'content_url': 'https://api.github.com/repos/Thinkful-Ed/technical-project-management-programs/issues/16'}\n",
      "{'url': 'https://api.github.com/projects/columns/cards/46207838', 'project_url': 'https://api.github.com/projects/5517614', 'id': 46207838, 'node_id': 'MDExOlByb2plY3RDYXJkNDYyMDc4Mzg=', 'note': None, 'archived': False, 'creator': {'login': 'AVJdataminer', 'id': 30507129, 'node_id': 'MDQ6VXNlcjMwNTA3MTI5', 'avatar_url': 'https://avatars0.githubusercontent.com/u/30507129?u=32df99b5d9bd9812ff17d3b295a682b5d840bcc2&v=4', 'gravatar_id': '', 'url': 'https://api.github.com/users/AVJdataminer', 'html_url': 'https://github.com/AVJdataminer', 'followers_url': 'https://api.github.com/users/AVJdataminer/followers', 'following_url': 'https://api.github.com/users/AVJdataminer/following{/other_user}', 'gists_url': 'https://api.github.com/users/AVJdataminer/gists{/gist_id}', 'starred_url': 'https://api.github.com/users/AVJdataminer/starred{/owner}{/repo}', 'subscriptions_url': 'https://api.github.com/users/AVJdataminer/subscriptions', 'organizations_url': 'https://api.github.com/users/AVJdataminer/orgs', 'repos_url': 'https://api.github.com/users/AVJdataminer/repos', 'events_url': 'https://api.github.com/users/AVJdataminer/events{/privacy}', 'received_events_url': 'https://api.github.com/users/AVJdataminer/received_events', 'type': 'User', 'site_admin': False}, 'created_at': '2020-09-25T22:54:35Z', 'updated_at': '2020-09-25T22:54:35Z', 'column_url': 'https://api.github.com/projects/columns/10926023', 'content_url': 'https://api.github.com/repos/Thinkful-Ed/technical-project-management-programs/issues/12'}\n",
      "{'url': 'https://api.github.com/projects/columns/cards/46207839', 'project_url': 'https://api.github.com/projects/5517614', 'id': 46207839, 'node_id': 'MDExOlByb2plY3RDYXJkNDYyMDc4Mzk=', 'note': None, 'archived': False, 'creator': {'login': 'AVJdataminer', 'id': 30507129, 'node_id': 'MDQ6VXNlcjMwNTA3MTI5', 'avatar_url': 'https://avatars0.githubusercontent.com/u/30507129?u=32df99b5d9bd9812ff17d3b295a682b5d840bcc2&v=4', 'gravatar_id': '', 'url': 'https://api.github.com/users/AVJdataminer', 'html_url': 'https://github.com/AVJdataminer', 'followers_url': 'https://api.github.com/users/AVJdataminer/followers', 'following_url': 'https://api.github.com/users/AVJdataminer/following{/other_user}', 'gists_url': 'https://api.github.com/users/AVJdataminer/gists{/gist_id}', 'starred_url': 'https://api.github.com/users/AVJdataminer/starred{/owner}{/repo}', 'subscriptions_url': 'https://api.github.com/users/AVJdataminer/subscriptions', 'organizations_url': 'https://api.github.com/users/AVJdataminer/orgs', 'repos_url': 'https://api.github.com/users/AVJdataminer/repos', 'events_url': 'https://api.github.com/users/AVJdataminer/events{/privacy}', 'received_events_url': 'https://api.github.com/users/AVJdataminer/received_events', 'type': 'User', 'site_admin': False}, 'created_at': '2020-09-25T22:54:36Z', 'updated_at': '2020-09-25T22:54:36Z', 'column_url': 'https://api.github.com/projects/columns/10926023', 'content_url': 'https://api.github.com/repos/Thinkful-Ed/technical-project-management-programs/issues/11'}\n",
      "{'url': 'https://api.github.com/projects/columns/cards/46207840', 'project_url': 'https://api.github.com/projects/5517614', 'id': 46207840, 'node_id': 'MDExOlByb2plY3RDYXJkNDYyMDc4NDA=', 'note': None, 'archived': False, 'creator': {'login': 'AVJdataminer', 'id': 30507129, 'node_id': 'MDQ6VXNlcjMwNTA3MTI5', 'avatar_url': 'https://avatars0.githubusercontent.com/u/30507129?u=32df99b5d9bd9812ff17d3b295a682b5d840bcc2&v=4', 'gravatar_id': '', 'url': 'https://api.github.com/users/AVJdataminer', 'html_url': 'https://github.com/AVJdataminer', 'followers_url': 'https://api.github.com/users/AVJdataminer/followers', 'following_url': 'https://api.github.com/users/AVJdataminer/following{/other_user}', 'gists_url': 'https://api.github.com/users/AVJdataminer/gists{/gist_id}', 'starred_url': 'https://api.github.com/users/AVJdataminer/starred{/owner}{/repo}', 'subscriptions_url': 'https://api.github.com/users/AVJdataminer/subscriptions', 'organizations_url': 'https://api.github.com/users/AVJdataminer/orgs', 'repos_url': 'https://api.github.com/users/AVJdataminer/repos', 'events_url': 'https://api.github.com/users/AVJdataminer/events{/privacy}', 'received_events_url': 'https://api.github.com/users/AVJdataminer/received_events', 'type': 'User', 'site_admin': False}, 'created_at': '2020-09-25T22:54:37Z', 'updated_at': '2020-09-25T22:54:37Z', 'column_url': 'https://api.github.com/projects/columns/10926023', 'content_url': 'https://api.github.com/repos/Thinkful-Ed/technical-project-management-programs/issues/9'}\n",
      "{'url': 'https://api.github.com/projects/columns/cards/46207844', 'project_url': 'https://api.github.com/projects/5517614', 'id': 46207844, 'node_id': 'MDExOlByb2plY3RDYXJkNDYyMDc4NDQ=', 'note': None, 'archived': False, 'creator': {'login': 'AVJdataminer', 'id': 30507129, 'node_id': 'MDQ6VXNlcjMwNTA3MTI5', 'avatar_url': 'https://avatars0.githubusercontent.com/u/30507129?u=32df99b5d9bd9812ff17d3b295a682b5d840bcc2&v=4', 'gravatar_id': '', 'url': 'https://api.github.com/users/AVJdataminer', 'html_url': 'https://github.com/AVJdataminer', 'followers_url': 'https://api.github.com/users/AVJdataminer/followers', 'following_url': 'https://api.github.com/users/AVJdataminer/following{/other_user}', 'gists_url': 'https://api.github.com/users/AVJdataminer/gists{/gist_id}', 'starred_url': 'https://api.github.com/users/AVJdataminer/starred{/owner}{/repo}', 'subscriptions_url': 'https://api.github.com/users/AVJdataminer/subscriptions', 'organizations_url': 'https://api.github.com/users/AVJdataminer/orgs', 'repos_url': 'https://api.github.com/users/AVJdataminer/repos', 'events_url': 'https://api.github.com/users/AVJdataminer/events{/privacy}', 'received_events_url': 'https://api.github.com/users/AVJdataminer/received_events', 'type': 'User', 'site_admin': False}, 'created_at': '2020-09-25T22:54:38Z', 'updated_at': '2020-09-25T22:54:38Z', 'column_url': 'https://api.github.com/projects/columns/10926023', 'content_url': 'https://api.github.com/repos/Thinkful-Ed/technical-project-management-programs/issues/4'}\n",
      "{'url': 'https://api.github.com/projects/columns/cards/46207845', 'project_url': 'https://api.github.com/projects/5517614', 'id': 46207845, 'node_id': 'MDExOlByb2plY3RDYXJkNDYyMDc4NDU=', 'note': None, 'archived': False, 'creator': {'login': 'AVJdataminer', 'id': 30507129, 'node_id': 'MDQ6VXNlcjMwNTA3MTI5', 'avatar_url': 'https://avatars0.githubusercontent.com/u/30507129?u=32df99b5d9bd9812ff17d3b295a682b5d840bcc2&v=4', 'gravatar_id': '', 'url': 'https://api.github.com/users/AVJdataminer', 'html_url': 'https://github.com/AVJdataminer', 'followers_url': 'https://api.github.com/users/AVJdataminer/followers', 'following_url': 'https://api.github.com/users/AVJdataminer/following{/other_user}', 'gists_url': 'https://api.github.com/users/AVJdataminer/gists{/gist_id}', 'starred_url': 'https://api.github.com/users/AVJdataminer/starred{/owner}{/repo}', 'subscriptions_url': 'https://api.github.com/users/AVJdataminer/subscriptions', 'organizations_url': 'https://api.github.com/users/AVJdataminer/orgs', 'repos_url': 'https://api.github.com/users/AVJdataminer/repos', 'events_url': 'https://api.github.com/users/AVJdataminer/events{/privacy}', 'received_events_url': 'https://api.github.com/users/AVJdataminer/received_events', 'type': 'User', 'site_admin': False}, 'created_at': '2020-09-25T22:54:39Z', 'updated_at': '2020-09-25T22:54:39Z', 'column_url': 'https://api.github.com/projects/columns/10926023', 'content_url': 'https://api.github.com/repos/Thinkful-Ed/technical-project-management-programs/issues/3'}\n",
      "{'url': 'https://api.github.com/projects/columns/cards/46207846', 'project_url': 'https://api.github.com/projects/5517614', 'id': 46207846, 'node_id': 'MDExOlByb2plY3RDYXJkNDYyMDc4NDY=', 'note': None, 'archived': False, 'creator': {'login': 'AVJdataminer', 'id': 30507129, 'node_id': 'MDQ6VXNlcjMwNTA3MTI5', 'avatar_url': 'https://avatars0.githubusercontent.com/u/30507129?u=32df99b5d9bd9812ff17d3b295a682b5d840bcc2&v=4', 'gravatar_id': '', 'url': 'https://api.github.com/users/AVJdataminer', 'html_url': 'https://github.com/AVJdataminer', 'followers_url': 'https://api.github.com/users/AVJdataminer/followers', 'following_url': 'https://api.github.com/users/AVJdataminer/following{/other_user}', 'gists_url': 'https://api.github.com/users/AVJdataminer/gists{/gist_id}', 'starred_url': 'https://api.github.com/users/AVJdataminer/starred{/owner}{/repo}', 'subscriptions_url': 'https://api.github.com/users/AVJdataminer/subscriptions', 'organizations_url': 'https://api.github.com/users/AVJdataminer/orgs', 'repos_url': 'https://api.github.com/users/AVJdataminer/repos', 'events_url': 'https://api.github.com/users/AVJdataminer/events{/privacy}', 'received_events_url': 'https://api.github.com/users/AVJdataminer/received_events', 'type': 'User', 'site_admin': False}, 'created_at': '2020-09-25T22:54:40Z', 'updated_at': '2020-09-25T22:54:40Z', 'column_url': 'https://api.github.com/projects/columns/10926023', 'content_url': 'https://api.github.com/repos/Thinkful-Ed/technical-project-management-programs/issues/2'}\n",
      "{'url': 'https://api.github.com/projects/columns/cards/46207847', 'project_url': 'https://api.github.com/projects/5517614', 'id': 46207847, 'node_id': 'MDExOlByb2plY3RDYXJkNDYyMDc4NDc=', 'note': None, 'archived': False, 'creator': {'login': 'AVJdataminer', 'id': 30507129, 'node_id': 'MDQ6VXNlcjMwNTA3MTI5', 'avatar_url': 'https://avatars0.githubusercontent.com/u/30507129?u=32df99b5d9bd9812ff17d3b295a682b5d840bcc2&v=4', 'gravatar_id': '', 'url': 'https://api.github.com/users/AVJdataminer', 'html_url': 'https://github.com/AVJdataminer', 'followers_url': 'https://api.github.com/users/AVJdataminer/followers', 'following_url': 'https://api.github.com/users/AVJdataminer/following{/other_user}', 'gists_url': 'https://api.github.com/users/AVJdataminer/gists{/gist_id}', 'starred_url': 'https://api.github.com/users/AVJdataminer/starred{/owner}{/repo}', 'subscriptions_url': 'https://api.github.com/users/AVJdataminer/subscriptions', 'organizations_url': 'https://api.github.com/users/AVJdataminer/orgs', 'repos_url': 'https://api.github.com/users/AVJdataminer/repos', 'events_url': 'https://api.github.com/users/AVJdataminer/events{/privacy}', 'received_events_url': 'https://api.github.com/users/AVJdataminer/received_events', 'type': 'User', 'site_admin': False}, 'created_at': '2020-09-25T22:54:42Z', 'updated_at': '2020-09-25T22:54:42Z', 'column_url': 'https://api.github.com/projects/columns/10926023', 'content_url': 'https://api.github.com/repos/Thinkful-Ed/technical-project-management-programs/issues/1'}\n"
     ]
    }
   ],
   "source": [
    "#Loop over the closed issue id list with the create card function\n",
    "for i in issue_list:\n",
    "    create_card(i)"
   ]
  },
  {
   "cell_type": "code",
   "execution_count": null,
   "metadata": {},
   "outputs": [],
   "source": []
  }
 ],
 "metadata": {
  "kernelspec": {
   "display_name": "Python 3.8.1 64-bit ('GPX_env': conda)",
   "language": "python",
   "name": "python38164bitgpxenvconda48ca4c503e2d40e68f7844ea8bc20df9"
  },
  "language_info": {
   "codemirror_mode": {
    "name": "ipython",
    "version": 3
   },
   "file_extension": ".py",
   "mimetype": "text/x-python",
   "name": "python",
   "nbconvert_exporter": "python",
   "pygments_lexer": "ipython3",
   "version": "3.8.1"
  }
 },
 "nbformat": 4,
 "nbformat_minor": 2
}
