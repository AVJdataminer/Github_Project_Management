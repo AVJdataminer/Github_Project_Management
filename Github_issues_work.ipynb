{
 "metadata": {
  "language_info": {
   "codemirror_mode": {
    "name": "ipython",
    "version": 3
   },
   "file_extension": ".py",
   "mimetype": "text/x-python",
   "name": "python",
   "nbconvert_exporter": "python",
   "pygments_lexer": "ipython3",
   "version": "3.8.1-final"
  },
  "orig_nbformat": 2,
  "kernelspec": {
   "name": "python38164bitgpxenvconda48ca4c503e2d40e68f7844ea8bc20df9",
   "display_name": "Python 3.8.1 64-bit ('GPX_env': conda)",
   "language": "python"
  }
 },
 "nbformat": 4,
 "nbformat_minor": 2,
 "cells": [
  {
   "source": [
    "# Github API Issues Puller\n",
    "This notebook fetches the Github Issues associated with the input github repository name and issue status. The user must first create a github token for api access and save it to a file called 'config.py' in the same directory as this notebook.\n",
    "The format for the config file is:\n",
    "GITHUB_TOKEN = 'XX3f427f3d5f0eb236440dd51cab9d1226a93eXX'\n",
    "\n"
   ],
   "cell_type": "markdown",
   "metadata": {}
  },
  {
   "cell_type": "code",
   "execution_count": 2,
   "metadata": {},
   "outputs": [],
   "source": [
    "#load modules\n",
    "import requests\n",
    "import os\n",
    "from pprint import pprint\n",
    "import config #Where to save your Github token\n",
    "import pandas as pd\n",
    "import json"
   ]
  },
  {
   "cell_type": "code",
   "execution_count": 63,
   "metadata": {},
   "outputs": [
    {
     "output_type": "stream",
     "name": "stdout",
     "text": [
      "\tNext Page: https://api.github.com/repositories/152430728/issues?content_type=Issue&state=all&page=2\n",
      "\tNext Page: https://api.github.com/repositories/152430728/issues?content_type=Issue&state=all&page=3\n",
      "\tNext Page: https://api.github.com/repositories/152430728/issues?content_type=Issue&state=all&page=4\n",
      "\tNext Page: https://api.github.com/repositories/152430728/issues?content_type=Issue&state=all&page=5\n",
      "\tNext Page: https://api.github.com/repositories/152430728/issues?content_type=Issue&state=all&page=6\n",
      "\tNext Page: https://api.github.com/repositories/152430728/issues?content_type=Issue&state=all&page=7\n",
      "\tNext Page: https://api.github.com/repositories/152430728/issues?content_type=Issue&state=all&page=8\n",
      "\tNext Page: https://api.github.com/repositories/152430728/issues?content_type=Issue&state=all&page=9\n",
      "\tNext Page: https://api.github.com/repositories/152430728/issues?content_type=Issue&state=all&page=10\n",
      "\tNext Page: https://api.github.com/repositories/152430728/issues?content_type=Issue&state=all&page=11\n",
      "\tNext Page: https://api.github.com/repositories/152430728/issues?content_type=Issue&state=all&page=12\n",
      "\tNext Page: https://api.github.com/repositories/152430728/issues?content_type=Issue&state=all&page=13\n",
      "\tNext Page: https://api.github.com/repositories/152430728/issues?content_type=Issue&state=all&page=14\n",
      "\tNext Page: https://api.github.com/repositories/152430728/issues?content_type=Issue&state=all&page=15\n",
      "\tNext Page: https://api.github.com/repositories/152430728/issues?content_type=Issue&state=all&page=16\n",
      "\tNext Page: https://api.github.com/repositories/152430728/issues?content_type=Issue&state=all&page=17\n",
      "\tNext Page: https://api.github.com/repositories/152430728/issues?content_type=Issue&state=all&page=18\n",
      "\tNext Page: https://api.github.com/repositories/152430728/issues?content_type=Issue&state=all&page=19\n",
      "\tNext Page: https://api.github.com/repositories/152430728/issues?content_type=Issue&state=all&page=20\n",
      "\tNext Page: https://api.github.com/repositories/152430728/issues?content_type=Issue&state=all&page=21\n",
      "\tNext Page: https://api.github.com/repositories/152430728/issues?content_type=Issue&state=all&page=22\n",
      "\tNext Page: https://api.github.com/repositories/152430728/issues?content_type=Issue&state=all&page=23\n",
      "\tNext Page: https://api.github.com/repositories/152430728/issues?content_type=Issue&state=all&page=24\n",
      "\tNext Page: https://api.github.com/repositories/152430728/issues?content_type=Issue&state=all&page=25\n",
      "\tNext Page: https://api.github.com/repositories/152430728/issues?content_type=Issue&state=all&page=26\n",
      "\tNext Page: https://api.github.com/repositories/152430728/issues?content_type=Issue&state=all&page=27\n",
      "\tNext Page: https://api.github.com/repositories/152430728/issues?content_type=Issue&state=all&page=28\n",
      "\tNext Page: https://api.github.com/repositories/152430728/issues?content_type=Issue&state=all&page=29\n",
      "\tNext Page: https://api.github.com/repositories/152430728/issues?content_type=Issue&state=all&page=30\n",
      "\tNext Page: https://api.github.com/repositories/152430728/issues?content_type=Issue&state=all&page=31\n",
      "\tNext Page: https://api.github.com/repositories/152430728/issues?content_type=Issue&state=all&page=32\n",
      "\tNext Page: https://api.github.com/repositories/152430728/issues?content_type=Issue&state=all&page=33\n",
      "\tNext Page: https://api.github.com/repositories/152430728/issues?content_type=Issue&state=all&page=34\n",
      "\tNext Page: https://api.github.com/repositories/152430728/issues?content_type=Issue&state=all&page=35\n",
      "\tNext Page: https://api.github.com/repositories/152430728/issues?content_type=Issue&state=all&page=36\n",
      "\tNext Page: https://api.github.com/repositories/152430728/issues?content_type=Issue&state=all&page=37\n",
      "\tNext Page: https://api.github.com/repositories/152430728/issues?content_type=Issue&state=all&page=38\n",
      "\tNext Page: https://api.github.com/repositories/152430728/issues?content_type=Issue&state=all&page=39\n",
      "\tNext Page: https://api.github.com/repositories/152430728/issues?content_type=Issue&state=all&page=40\n",
      "\tNext Page: https://api.github.com/repositories/152430728/issues?content_type=Issue&state=all&page=41\n",
      "\tNext Page: https://api.github.com/repositories/152430728/issues?content_type=Issue&state=all&page=42\n",
      "\tNext Page: https://api.github.com/repositories/152430728/issues?content_type=Issue&state=all&page=43\n",
      "\tNext Page: https://api.github.com/repositories/152430728/issues?content_type=Issue&state=all&page=44\n",
      "\tNext Page: https://api.github.com/repositories/152430728/issues?content_type=Issue&state=all&page=45\n",
      "\tNext Page: https://api.github.com/repositories/152430728/issues?content_type=Issue&state=all&page=46\n",
      "\tNext Page: https://api.github.com/repositories/152430728/issues?content_type=Issue&state=all&page=47\n",
      "\tNext Page: https://api.github.com/repositories/152430728/issues?content_type=Issue&state=all&page=48\n",
      "\tNext Page: https://api.github.com/repositories/152430728/issues?content_type=Issue&state=all&page=49\n",
      "\tNext Page: https://api.github.com/repositories/152430728/issues?content_type=Issue&state=all&page=50\n",
      "\tNext Page: https://api.github.com/repositories/152430728/issues?content_type=Issue&state=all&page=51\n",
      "\tNext Page: https://api.github.com/repositories/152430728/issues?content_type=Issue&state=all&page=52\n",
      "\tNext Page: https://api.github.com/repositories/152430728/issues?content_type=Issue&state=all&page=53\n",
      "\tNext Page: https://api.github.com/repositories/152430728/issues?content_type=Issue&state=all&page=54\n",
      "\tNext Page: https://api.github.com/repositories/152430728/issues?content_type=Issue&state=all&page=55\n",
      "\tNext Page: https://api.github.com/repositories/152430728/issues?content_type=Issue&state=all&page=56\n",
      "\tNext Page: https://api.github.com/repositories/152430728/issues?content_type=Issue&state=all&page=57\n",
      "\tNext Page: https://api.github.com/repositories/152430728/issues?content_type=Issue&state=all&page=58\n",
      "\tNext Page: https://api.github.com/repositories/152430728/issues?content_type=Issue&state=all&page=59\n",
      "\tNext Page: https://api.github.com/repositories/152430728/issues?content_type=Issue&state=all&page=60\n",
      "\tNext Page: https://api.github.com/repositories/152430728/issues?content_type=Issue&state=all&page=61\n",
      "\tNext Page: https://api.github.com/repositories/152430728/issues?content_type=Issue&state=all&page=62\n",
      "\tNext Page: https://api.github.com/repositories/152430728/issues?content_type=Issue&state=all&page=63\n",
      "\tNext Page: https://api.github.com/repositories/152430728/issues?content_type=Issue&state=all&page=64\n",
      "\tNext Page: https://api.github.com/repositories/152430728/issues?content_type=Issue&state=all&page=65\n",
      "\tNext Page: https://api.github.com/repositories/152430728/issues?content_type=Issue&state=all&page=66\n",
      "\tNext Page: https://api.github.com/repositories/152430728/issues?content_type=Issue&state=all&page=67\n",
      "\tNext Page: https://api.github.com/repositories/152430728/issues?content_type=Issue&state=all&page=68\n",
      "\tNext Page: https://api.github.com/repositories/152430728/issues?content_type=Issue&state=all&page=69\n",
      "\tNext Page: https://api.github.com/repositories/152430728/issues?content_type=Issue&state=all&page=70\n",
      "\tNext Page: https://api.github.com/repositories/152430728/issues?content_type=Issue&state=all&page=71\n",
      "\tNext Page: https://api.github.com/repositories/152430728/issues?content_type=Issue&state=all&page=72\n",
      "\tNext Page: https://api.github.com/repositories/152430728/issues?content_type=Issue&state=all&page=73\n",
      "\tNext Page: https://api.github.com/repositories/152430728/issues?content_type=Issue&state=all&page=74\n",
      "\tNext Page: https://api.github.com/repositories/152430728/issues?content_type=Issue&state=all&page=75\n",
      "\tNext Page: https://api.github.com/repositories/152430728/issues?content_type=Issue&state=all&page=76\n",
      "\tNext Page: https://api.github.com/repositories/152430728/issues?content_type=Issue&state=all&page=77\n",
      "\tNext Page: https://api.github.com/repositories/152430728/issues?content_type=Issue&state=all&page=78\n",
      "\tNext Page: https://api.github.com/repositories/152430728/issues?content_type=Issue&state=all&page=79\n",
      "\tNext Page: https://api.github.com/repositories/152430728/issues?content_type=Issue&state=all&page=80\n",
      "\tNext Page: https://api.github.com/repositories/152430728/issues?content_type=Issue&state=all&page=81\n",
      "\tNext Page: https://api.github.com/repositories/152430728/issues?content_type=Issue&state=all&page=82\n",
      "\tNext Page: https://api.github.com/repositories/152430728/issues?content_type=Issue&state=all&page=83\n",
      "\tNext Page: https://api.github.com/repositories/152430728/issues?content_type=Issue&state=all&page=84\n",
      "\tNext Page: https://api.github.com/repositories/152430728/issues?content_type=Issue&state=all&page=85\n",
      "\tNext Page: https://api.github.com/repositories/152430728/issues?content_type=Issue&state=all&page=86\n",
      "\tNext Page: https://api.github.com/repositories/152430728/issues?content_type=Issue&state=all&page=87\n",
      "\tNext Page: https://api.github.com/repositories/152430728/issues?content_type=Issue&state=all&page=88\n",
      "\tNext Page: https://api.github.com/repositories/152430728/issues?content_type=Issue&state=all&page=89\n",
      "\tNext Page: https://api.github.com/repositories/152430728/issues?content_type=Issue&state=all&page=90\n",
      "\tNext Page: https://api.github.com/repositories/152430728/issues?content_type=Issue&state=all&page=91\n",
      "\tNext Page: https://api.github.com/repositories/152430728/issues?content_type=Issue&state=all&page=92\n",
      "\tNext Page: https://api.github.com/repositories/152430728/issues?content_type=Issue&state=all&page=93\n",
      "\tNext Page: https://api.github.com/repositories/152430728/issues?content_type=Issue&state=all&page=94\n",
      "\tNext Page: https://api.github.com/repositories/152430728/issues?content_type=Issue&state=all&page=95\n",
      "\tNext Page: https://api.github.com/repositories/152430728/issues?content_type=Issue&state=all&page=96\n",
      "\tNext Page: https://api.github.com/repositories/152430728/issues?content_type=Issue&state=all&page=97\n",
      "\tNext Page: https://api.github.com/repositories/152430728/issues?content_type=Issue&state=all&page=98\n",
      "\tNext Page: https://api.github.com/repositories/152430728/issues?content_type=Issue&state=all&page=99\n",
      "\tNext Page: https://api.github.com/repositories/152430728/issues?content_type=Issue&state=all&page=100\n",
      "\tNext Page: https://api.github.com/repositories/152430728/issues?content_type=Issue&state=all&page=101\n",
      "\tNext Page: https://api.github.com/repositories/152430728/issues?content_type=Issue&state=all&page=102\n",
      "\tNext Page: https://api.github.com/repositories/152430728/issues?content_type=Issue&state=all&page=103\n",
      "\tNext Page: https://api.github.com/repositories/152430728/issues?content_type=Issue&state=all&page=104\n",
      "\tNext Page: https://api.github.com/repositories/152430728/issues?content_type=Issue&state=all&page=105\n",
      "\tNext Page: https://api.github.com/repositories/152430728/issues?content_type=Issue&state=all&page=106\n",
      "\tNext Page: https://api.github.com/repositories/152430728/issues?content_type=Issue&state=all&page=107\n",
      "\tNext Page: https://api.github.com/repositories/152430728/issues?content_type=Issue&state=all&page=108\n",
      "\tNext Page: https://api.github.com/repositories/152430728/issues?content_type=Issue&state=all&page=109\n",
      "\tNext Page: https://api.github.com/repositories/152430728/issues?content_type=Issue&state=all&page=110\n",
      "\tNext Page: https://api.github.com/repositories/152430728/issues?content_type=Issue&state=all&page=111\n",
      "\tNext Page: https://api.github.com/repositories/152430728/issues?content_type=Issue&state=all&page=112\n",
      "\tNext Page: https://api.github.com/repositories/152430728/issues?content_type=Issue&state=all&page=113\n",
      "\tNext Page: https://api.github.com/repositories/152430728/issues?content_type=Issue&state=all&page=114\n",
      "\tNext Page: https://api.github.com/repositories/152430728/issues?content_type=Issue&state=all&page=115\n",
      "\tNext Page: https://api.github.com/repositories/152430728/issues?content_type=Issue&state=all&page=116\n",
      "\tNext Page: https://api.github.com/repositories/152430728/issues?content_type=Issue&state=all&page=117\n",
      "\tNext Page: https://api.github.com/repositories/152430728/issues?content_type=Issue&state=all&page=118\n",
      "\tNext Page: https://api.github.com/repositories/152430728/issues?content_type=Issue&state=all&page=119\n",
      "\tNext Page: https://api.github.com/repositories/152430728/issues?content_type=Issue&state=all&page=120\n",
      "\tNext Page: https://api.github.com/repositories/152430728/issues?content_type=Issue&state=all&page=121\n",
      "\tNext Page: https://api.github.com/repositories/152430728/issues?content_type=Issue&state=all&page=122\n",
      "\tNext Page: https://api.github.com/repositories/152430728/issues?content_type=Issue&state=all&page=123\n",
      "\tNext Page: https://api.github.com/repositories/152430728/issues?content_type=Issue&state=all&page=124\n",
      "\tNext Page: https://api.github.com/repositories/152430728/issues?content_type=Issue&state=all&page=125\n",
      "\tNext Page: https://api.github.com/repositories/152430728/issues?content_type=Issue&state=all&page=126\n",
      "\tNext Page: https://api.github.com/repositories/152430728/issues?content_type=Issue&state=all&page=127\n",
      "\tNext Page: https://api.github.com/repositories/152430728/issues?content_type=Issue&state=all&page=128\n",
      "\tNext Page: https://api.github.com/repositories/152430728/issues?content_type=Issue&state=all&page=129\n",
      "\tNext Page: https://api.github.com/repositories/152430728/issues?content_type=Issue&state=all&page=130\n",
      "\tNext Page: https://api.github.com/repositories/152430728/issues?content_type=Issue&state=all&page=131\n",
      "\tNext Page: https://api.github.com/repositories/152430728/issues?content_type=Issue&state=all&page=132\n",
      "\tNext Page: https://api.github.com/repositories/152430728/issues?content_type=Issue&state=all&page=133\n",
      "\tNext Page: https://api.github.com/repositories/152430728/issues?content_type=Issue&state=all&page=134\n",
      "\tNext Page: https://api.github.com/repositories/152430728/issues?content_type=Issue&state=all&page=135\n",
      "\tNext Page: https://api.github.com/repositories/152430728/issues?content_type=Issue&state=all&page=136\n",
      "\tNext Page: https://api.github.com/repositories/152430728/issues?content_type=Issue&state=all&page=137\n",
      "\tNext Page: https://api.github.com/repositories/152430728/issues?content_type=Issue&state=all&page=138\n",
      "\tNext Page: https://api.github.com/repositories/152430728/issues?content_type=Issue&state=all&page=139\n",
      "\tNext Page: https://api.github.com/repositories/152430728/issues?content_type=Issue&state=all&page=140\n",
      "\tNext Page: https://api.github.com/repositories/152430728/issues?content_type=Issue&state=all&page=141\n",
      "\tNext Page: https://api.github.com/repositories/152430728/issues?content_type=Issue&state=all&page=142\n",
      "\tNext Page: https://api.github.com/repositories/152430728/issues?content_type=Issue&state=all&page=143\n",
      "\tNext Page: https://api.github.com/repositories/152430728/issues?content_type=Issue&state=all&page=144\n",
      "\tNext Page: https://api.github.com/repositories/152430728/issues?content_type=Issue&state=all&page=145\n",
      "\tNext Page: https://api.github.com/repositories/152430728/issues?content_type=Issue&state=all&page=146\n",
      "\tNext Page: https://api.github.com/repositories/152430728/issues?content_type=Issue&state=all&page=147\n",
      "\tNext Page: https://api.github.com/repositories/152430728/issues?content_type=Issue&state=all&page=148\n",
      "\tNext Page: https://api.github.com/repositories/152430728/issues?content_type=Issue&state=all&page=149\n",
      "\tNext Page: https://api.github.com/repositories/152430728/issues?content_type=Issue&state=all&page=150\n",
      "\tNext Page: https://api.github.com/repositories/152430728/issues?content_type=Issue&state=all&page=151\n",
      "\tNext Page: https://api.github.com/repositories/152430728/issues?content_type=Issue&state=all&page=152\n",
      "\tNext Page: https://api.github.com/repositories/152430728/issues?content_type=Issue&state=all&page=153\n",
      "\tNext Page: https://api.github.com/repositories/152430728/issues?content_type=Issue&state=all&page=154\n",
      "\tNext Page: https://api.github.com/repositories/152430728/issues?content_type=Issue&state=all&page=155\n",
      "\tNext Page: https://api.github.com/repositories/152430728/issues?content_type=Issue&state=all&page=156\n",
      "\tNext Page: https://api.github.com/repositories/152430728/issues?content_type=Issue&state=all&page=157\n",
      "\tNext Page: https://api.github.com/repositories/152430728/issues?content_type=Issue&state=all&page=158\n",
      "\tNext Page: https://api.github.com/repositories/152430728/issues?content_type=Issue&state=all&page=159\n",
      "\tNext Page: https://api.github.com/repositories/152430728/issues?content_type=Issue&state=all&page=160\n",
      "\tNext Page: https://api.github.com/repositories/152430728/issues?content_type=Issue&state=all&page=161\n",
      "\tNext Page: https://api.github.com/repositories/152430728/issues?content_type=Issue&state=all&page=162\n",
      "\tNext Page: https://api.github.com/repositories/152430728/issues?content_type=Issue&state=all&page=163\n",
      "\tNext Page: https://api.github.com/repositories/152430728/issues?content_type=Issue&state=all&page=164\n",
      "\tNext Page: https://api.github.com/repositories/152430728/issues?content_type=Issue&state=all&page=165\n",
      "\tNext Page: https://api.github.com/repositories/152430728/issues?content_type=Issue&state=all&page=166\n",
      "\tNext Page: https://api.github.com/repositories/152430728/issues?content_type=Issue&state=all&page=167\n",
      "\tNext Page: https://api.github.com/repositories/152430728/issues?content_type=Issue&state=all&page=168\n",
      "\tNext Page: https://api.github.com/repositories/152430728/issues?content_type=Issue&state=all&page=169\n",
      "\tNext Page: https://api.github.com/repositories/152430728/issues?content_type=Issue&state=all&page=170\n",
      "\tNext Page: https://api.github.com/repositories/152430728/issues?content_type=Issue&state=all&page=171\n",
      "\tNext Page: https://api.github.com/repositories/152430728/issues?content_type=Issue&state=all&page=172\n",
      "\tNext Page: https://api.github.com/repositories/152430728/issues?content_type=Issue&state=all&page=173\n",
      "\tNext Page: https://api.github.com/repositories/152430728/issues?content_type=Issue&state=all&page=174\n"
     ]
    }
   ],
   "source": [
    "\n",
    "\n",
    "#Get user input parameters\n",
    "repo_name = input(\"Enter the name of the GH Repo you want Issues collected from:\\n example: data-science\")\n",
    "REPO = str(repo_name)\n",
    "value = input(\"enter the state of issues you want:\\n options: open, closed, all\")\n",
    "params = {\"content_type\" : \"Issue\", \"state\":value}\n",
    "\n",
    "# Define the input parameters\n",
    "token = config.GITHUB_TOKEN\n",
    "acc = \"application/vnd.github.inertia-preview+json\" #this is the Accept type you must have for working with Projects in the current Github Api\n",
    "#params = {\"content_type\" : \"Issue\", \"state\":\"open\"} #notice the content type is for issues and the issue state is open\n",
    "HEADERS = {'Accept': f'{acc}','Authorization': f'token {token}'}\n",
    "OWNER = \"Thinkful-Ed\"\n",
    "#REPO = \"data-science\"\n",
    "\n",
    "ISSUES_DICT = {}\n",
    "def get_issues_by_repository(repository):\n",
    "    url = \"https://api.github.com/repos/{}/{}/issues\".format(OWNER, repository)\n",
    "    headers = HEADERS\n",
    "    r = requests.get(\n",
    "        url=url,\n",
    "        headers=headers, \n",
    "        params=params\n",
    "\n",
    "    )\n",
    "    issues = r.json()\n",
    "    while \"next\" in r.links:\n",
    "        print(\"\\tNext Page: {}\".format(r.links[\"next\"][\"url\"]))\n",
    "        r = requests.get(\n",
    "            url=r.links[\"next\"][\"url\"],\n",
    "            headers=headers,\n",
    "            params=params\n",
    "        )\n",
    "        issues.extend(r.json())\n",
    "    ISSUES_DICT.update({repository: issues})\n",
    "    return issues\n",
    "\n",
    "today = pd.to_datetime('now').date()\n",
    "issue_dict = get_issues_by_repository(REPO)\n",
    "df = pd.DataFrame.from_dict(issue_dict)\n",
    "df['date'] = pd.to_datetime(df['created_at']).dt.date\n",
    "df['week'] = df['date'].dt.week\n",
    "df['month'] = df['date'].dt.month\n",
    "df['year'] = df['date'].dt.year\n",
    "filename = params['state']+'_issues_'+str(REPO)+'_'+str(today)+'.csv'\n",
    "df.to_csv(filename, index =False)"
   ]
  },
  {
   "source": [
    "## Get Daily Issue counts and save out as csv"
   ],
   "cell_type": "markdown",
   "metadata": {}
  },
  {
   "cell_type": "code",
   "execution_count": 4,
   "metadata": {},
   "outputs": [
    {
     "output_type": "execute_result",
     "data": {
      "text/plain": [
       " REACT                                                         539\n",
       " NODE-POSTGRES                                                 526\n",
       " HTML-CSS                                                      306\n",
       " wd-html-css                                                   197\n",
       " WD-START-CODING                                               131\n",
       "                                                              ... \n",
       " design                                                          1\n",
       " students the glob…                                              1\n",
       " 3.3.5                                                           1\n",
       " Reading JS                                                      1\n",
       " Node \"Working with the Express response object\" Assignment      1\n",
       "Name: module, Length: 193, dtype: int64"
      ]
     },
     "metadata": {},
     "execution_count": 4
    }
   ],
   "source": [
    "#get counts per module\n",
    "f1 = df.title.str.split(\"for\", expand=True)\n",
    "#f1.columns = ['type','module'] #sometimes has 2 elements and sometimes has 3\n",
    "f1.columns = ['type','module','none']\n",
    "f1.module.value_counts()"
   ]
  },
  {
   "cell_type": "code",
   "execution_count": 9,
   "metadata": {},
   "outputs": [
    {
     "output_type": "execute_result",
     "data": {
      "text/plain": [
       "           date                         modules  cnt\n",
       "0    2018-11-07                    asset upload    1\n",
       "1    2018-11-11                   `html-css-v1`    1\n",
       "2    2018-11-12                         matting    1\n",
       "3    2018-11-14                careers branding    1\n",
       "4    2019-01-04   \"Working with large datasets\"    1\n",
       "...         ...                             ...  ...\n",
       "2422 2020-12-09   zid-pf-javascript-foundations    2\n",
       "2423 2020-12-10                   NODE-POSTGRES    3\n",
       "2424 2020-12-10              WD-JS-START-CODING    1\n",
       "2425 2020-12-10       zid-pf-developer-workflow    1\n",
       "2426 2020-12-11                   NODE-POSTGRES    1\n",
       "\n",
       "[2427 rows x 3 columns]"
      ],
      "text/html": "<div>\n<style scoped>\n    .dataframe tbody tr th:only-of-type {\n        vertical-align: middle;\n    }\n\n    .dataframe tbody tr th {\n        vertical-align: top;\n    }\n\n    .dataframe thead th {\n        text-align: right;\n    }\n</style>\n<table border=\"1\" class=\"dataframe\">\n  <thead>\n    <tr style=\"text-align: right;\">\n      <th></th>\n      <th>date</th>\n      <th>modules</th>\n      <th>cnt</th>\n    </tr>\n  </thead>\n  <tbody>\n    <tr>\n      <th>0</th>\n      <td>2018-11-07</td>\n      <td>asset upload</td>\n      <td>1</td>\n    </tr>\n    <tr>\n      <th>1</th>\n      <td>2018-11-11</td>\n      <td>`html-css-v1`</td>\n      <td>1</td>\n    </tr>\n    <tr>\n      <th>2</th>\n      <td>2018-11-12</td>\n      <td>matting</td>\n      <td>1</td>\n    </tr>\n    <tr>\n      <th>3</th>\n      <td>2018-11-14</td>\n      <td>careers branding</td>\n      <td>1</td>\n    </tr>\n    <tr>\n      <th>4</th>\n      <td>2019-01-04</td>\n      <td>\"Working with large datasets\"</td>\n      <td>1</td>\n    </tr>\n    <tr>\n      <th>...</th>\n      <td>...</td>\n      <td>...</td>\n      <td>...</td>\n    </tr>\n    <tr>\n      <th>2422</th>\n      <td>2020-12-09</td>\n      <td>zid-pf-javascript-foundations</td>\n      <td>2</td>\n    </tr>\n    <tr>\n      <th>2423</th>\n      <td>2020-12-10</td>\n      <td>NODE-POSTGRES</td>\n      <td>3</td>\n    </tr>\n    <tr>\n      <th>2424</th>\n      <td>2020-12-10</td>\n      <td>WD-JS-START-CODING</td>\n      <td>1</td>\n    </tr>\n    <tr>\n      <th>2425</th>\n      <td>2020-12-10</td>\n      <td>zid-pf-developer-workflow</td>\n      <td>1</td>\n    </tr>\n    <tr>\n      <th>2426</th>\n      <td>2020-12-11</td>\n      <td>NODE-POSTGRES</td>\n      <td>1</td>\n    </tr>\n  </tbody>\n</table>\n<p>2427 rows × 3 columns</p>\n</div>"
     },
     "metadata": {},
     "execution_count": 9
    }
   ],
   "source": [
    "#add module names back to df\n",
    "df['module'] =f1['module']\n",
    "#group by date and module\n",
    "module_date = pd.DataFrame(df[['date','module']].groupby(['date','module']).size()).reset_index()\n",
    "module_date.columns = ['date','modules','cnt']\n",
    "module_date"
   ]
  },
  {
   "cell_type": "code",
   "execution_count": 10,
   "metadata": {},
   "outputs": [],
   "source": [
    "#module_date.to_csv('Daily_issue_counts_by_module_web-dev-programs_2020-12-11.csv', index=False)\n",
    "module_date.to_csv('Daily_issue_counts_by_module_'+str(REPO)+'_'+str(today)+'.csv', index=False)"
   ]
  },
  {
   "source": [
    "## Get Weekly Issues counts"
   ],
   "cell_type": "markdown",
   "metadata": {}
  },
  {
   "cell_type": "code",
   "execution_count": 3,
   "metadata": {},
   "outputs": [
    {
     "output_type": "execute_result",
     "data": {
      "text/plain": [
       "                                                    url  \\\n",
       "0     https://api.github.com/repos/Thinkful-Ed/web-d...   \n",
       "1     https://api.github.com/repos/Thinkful-Ed/web-d...   \n",
       "2     https://api.github.com/repos/Thinkful-Ed/web-d...   \n",
       "3     https://api.github.com/repos/Thinkful-Ed/web-d...   \n",
       "4     https://api.github.com/repos/Thinkful-Ed/web-d...   \n",
       "...                                                 ...   \n",
       "5206  https://api.github.com/repos/Thinkful-Ed/web-d...   \n",
       "5207  https://api.github.com/repos/Thinkful-Ed/web-d...   \n",
       "5208  https://api.github.com/repos/Thinkful-Ed/web-d...   \n",
       "5209  https://api.github.com/repos/Thinkful-Ed/web-d...   \n",
       "5210  https://api.github.com/repos/Thinkful-Ed/web-d...   \n",
       "\n",
       "                                         repository_url  \\\n",
       "0     https://api.github.com/repos/Thinkful-Ed/web-d...   \n",
       "1     https://api.github.com/repos/Thinkful-Ed/web-d...   \n",
       "2     https://api.github.com/repos/Thinkful-Ed/web-d...   \n",
       "3     https://api.github.com/repos/Thinkful-Ed/web-d...   \n",
       "4     https://api.github.com/repos/Thinkful-Ed/web-d...   \n",
       "...                                                 ...   \n",
       "5206  https://api.github.com/repos/Thinkful-Ed/web-d...   \n",
       "5207  https://api.github.com/repos/Thinkful-Ed/web-d...   \n",
       "5208  https://api.github.com/repos/Thinkful-Ed/web-d...   \n",
       "5209  https://api.github.com/repos/Thinkful-Ed/web-d...   \n",
       "5210  https://api.github.com/repos/Thinkful-Ed/web-d...   \n",
       "\n",
       "                                             labels_url  \\\n",
       "0     https://api.github.com/repos/Thinkful-Ed/web-d...   \n",
       "1     https://api.github.com/repos/Thinkful-Ed/web-d...   \n",
       "2     https://api.github.com/repos/Thinkful-Ed/web-d...   \n",
       "3     https://api.github.com/repos/Thinkful-Ed/web-d...   \n",
       "4     https://api.github.com/repos/Thinkful-Ed/web-d...   \n",
       "...                                                 ...   \n",
       "5206  https://api.github.com/repos/Thinkful-Ed/web-d...   \n",
       "5207  https://api.github.com/repos/Thinkful-Ed/web-d...   \n",
       "5208  https://api.github.com/repos/Thinkful-Ed/web-d...   \n",
       "5209  https://api.github.com/repos/Thinkful-Ed/web-d...   \n",
       "5210  https://api.github.com/repos/Thinkful-Ed/web-d...   \n",
       "\n",
       "                                           comments_url  \\\n",
       "0     https://api.github.com/repos/Thinkful-Ed/web-d...   \n",
       "1     https://api.github.com/repos/Thinkful-Ed/web-d...   \n",
       "2     https://api.github.com/repos/Thinkful-Ed/web-d...   \n",
       "3     https://api.github.com/repos/Thinkful-Ed/web-d...   \n",
       "4     https://api.github.com/repos/Thinkful-Ed/web-d...   \n",
       "...                                                 ...   \n",
       "5206  https://api.github.com/repos/Thinkful-Ed/web-d...   \n",
       "5207  https://api.github.com/repos/Thinkful-Ed/web-d...   \n",
       "5208  https://api.github.com/repos/Thinkful-Ed/web-d...   \n",
       "5209  https://api.github.com/repos/Thinkful-Ed/web-d...   \n",
       "5210  https://api.github.com/repos/Thinkful-Ed/web-d...   \n",
       "\n",
       "                                             events_url  \\\n",
       "0     https://api.github.com/repos/Thinkful-Ed/web-d...   \n",
       "1     https://api.github.com/repos/Thinkful-Ed/web-d...   \n",
       "2     https://api.github.com/repos/Thinkful-Ed/web-d...   \n",
       "3     https://api.github.com/repos/Thinkful-Ed/web-d...   \n",
       "4     https://api.github.com/repos/Thinkful-Ed/web-d...   \n",
       "...                                                 ...   \n",
       "5206  https://api.github.com/repos/Thinkful-Ed/web-d...   \n",
       "5207  https://api.github.com/repos/Thinkful-Ed/web-d...   \n",
       "5208  https://api.github.com/repos/Thinkful-Ed/web-d...   \n",
       "5209  https://api.github.com/repos/Thinkful-Ed/web-d...   \n",
       "5210  https://api.github.com/repos/Thinkful-Ed/web-d...   \n",
       "\n",
       "                                               html_url         id  \\\n",
       "0     https://github.com/Thinkful-Ed/web-dev-program...  761801678   \n",
       "1     https://github.com/Thinkful-Ed/web-dev-program...  761775978   \n",
       "2     https://github.com/Thinkful-Ed/web-dev-program...  761739936   \n",
       "3     https://github.com/Thinkful-Ed/web-dev-program...  761712032   \n",
       "4     https://github.com/Thinkful-Ed/web-dev-program...  761641172   \n",
       "...                                                 ...        ...   \n",
       "5206  https://github.com/Thinkful-Ed/web-dev-program...  370601209   \n",
       "5207  https://github.com/Thinkful-Ed/web-dev-program...  370259840   \n",
       "5208  https://github.com/Thinkful-Ed/web-dev-program...  369331966   \n",
       "5209  https://github.com/Thinkful-Ed/web-dev-program...  369317718   \n",
       "5210  https://github.com/Thinkful-Ed/web-dev-program...  369298359   \n",
       "\n",
       "                               node_id  number  \\\n",
       "0             MDU6SXNzdWU3NjE4MDE2Nzg=    5211   \n",
       "1     MDExOlB1bGxSZXF1ZXN0NTM2MzkzMTQy    5210   \n",
       "2     MDExOlB1bGxSZXF1ZXN0NTM2MzYxOTAx    5209   \n",
       "3     MDExOlB1bGxSZXF1ZXN0NTM2MzM3ODQ2    5208   \n",
       "4     MDExOlB1bGxSZXF1ZXN0NTM2Mjc3NTA0    5207   \n",
       "...                                ...     ...   \n",
       "5206  MDExOlB1bGxSZXF1ZXN0MjIzMjQxMzYw       5   \n",
       "5207  MDExOlB1bGxSZXF1ZXN0MjIyOTc5ODk2       4   \n",
       "5208  MDExOlB1bGxSZXF1ZXN0MjIyMjk5ODYx       3   \n",
       "5209  MDExOlB1bGxSZXF1ZXN0MjIyMjg5NDU4       2   \n",
       "5210  MDExOlB1bGxSZXF1ZXN0MjIyMjc0MTQ5       1   \n",
       "\n",
       "                                               title  ... comments  \\\n",
       "0          User-submitted feedback for NODE-POSTGRES  ...        0   \n",
       "1     3.5.2 Connecting to Databases with Knex review  ...        0   \n",
       "2                           3.5.1 Knex config review  ...        1   \n",
       "3                                          Fix links  ...        0   \n",
       "4                                 Applying copyedits  ...        0   \n",
       "...                                              ...  ...      ...   \n",
       "5206               Spec: react component composition  ...        0   \n",
       "5207                        Spec: testing components  ...        0   \n",
       "5208                   Add circle config and builder  ...        0   \n",
       "5209                                 Spec: npm setup  ...        0   \n",
       "5210                         Spec: react hello world  ...        0   \n",
       "\n",
       "                created_at            updated_at             closed_at  \\\n",
       "0     2020-12-11T02:21:07Z  2020-12-11T02:21:07Z                   NaN   \n",
       "1     2020-12-11T01:35:54Z  2020-12-11T01:35:54Z                   NaN   \n",
       "2     2020-12-11T00:24:10Z  2020-12-11T00:28:17Z                   NaN   \n",
       "3     2020-12-10T23:31:48Z  2020-12-10T23:33:26Z  2020-12-10T23:33:26Z   \n",
       "4     2020-12-10T21:44:03Z  2020-12-10T21:44:29Z  2020-12-10T21:44:24Z   \n",
       "...                    ...                   ...                   ...   \n",
       "5206  2018-10-16T13:02:41Z  2018-10-23T10:11:27Z  2018-10-22T13:20:00Z   \n",
       "5207  2018-10-15T17:13:17Z  2018-11-26T18:56:35Z  2018-11-26T18:56:32Z   \n",
       "5208  2018-10-11T22:35:52Z  2018-10-12T15:40:36Z  2018-10-12T15:40:33Z   \n",
       "5209  2018-10-11T21:46:48Z  2018-10-22T13:37:26Z  2018-10-22T13:18:52Z   \n",
       "5210  2018-10-11T20:46:12Z  2018-10-22T13:33:24Z  2018-10-22T13:18:31Z   \n",
       "\n",
       "     author_association active_lock_reason  \\\n",
       "0                  NONE                NaN   \n",
       "1           CONTRIBUTOR                NaN   \n",
       "2           CONTRIBUTOR                NaN   \n",
       "3          COLLABORATOR                NaN   \n",
       "4           CONTRIBUTOR                NaN   \n",
       "...                 ...                ...   \n",
       "5206       COLLABORATOR                NaN   \n",
       "5207        CONTRIBUTOR                NaN   \n",
       "5208        CONTRIBUTOR                NaN   \n",
       "5209        CONTRIBUTOR                NaN   \n",
       "5210       COLLABORATOR                NaN   \n",
       "\n",
       "                                                   body  \\\n",
       "0     \\nCatherine Pedersen (cathy.pedersen@gmail.com...   \n",
       "1                       - Minor typo fix - missing word   \n",
       "2      - Minor wording update - wanted to separate t...   \n",
       "3                                                   NaN   \n",
       "4                                                   NaN   \n",
       "...                                                 ...   \n",
       "5206                                                NaN   \n",
       "5207  Testing components including\\r\\n - overview of...   \n",
       "5208                                                NaN   \n",
       "5209  Specification for the NPM setup checkpoint inc...   \n",
       "5210                                                NaN   \n",
       "\n",
       "      performed_via_github_app  \\\n",
       "0                          NaN   \n",
       "1                          NaN   \n",
       "2                          NaN   \n",
       "3                          NaN   \n",
       "4                          NaN   \n",
       "...                        ...   \n",
       "5206                       NaN   \n",
       "5207                       NaN   \n",
       "5208                       NaN   \n",
       "5209                       NaN   \n",
       "5210                       NaN   \n",
       "\n",
       "                                           pull_request       date  \n",
       "0                                                   NaN 2020-12-11  \n",
       "1     {'url': 'https://api.github.com/repos/Thinkful... 2020-12-11  \n",
       "2     {'url': 'https://api.github.com/repos/Thinkful... 2020-12-11  \n",
       "3     {'url': 'https://api.github.com/repos/Thinkful... 2020-12-10  \n",
       "4     {'url': 'https://api.github.com/repos/Thinkful... 2020-12-10  \n",
       "...                                                 ...        ...  \n",
       "5206  {'url': 'https://api.github.com/repos/Thinkful... 2018-10-16  \n",
       "5207  {'url': 'https://api.github.com/repos/Thinkful... 2018-10-15  \n",
       "5208  {'url': 'https://api.github.com/repos/Thinkful... 2018-10-11  \n",
       "5209  {'url': 'https://api.github.com/repos/Thinkful... 2018-10-11  \n",
       "5210  {'url': 'https://api.github.com/repos/Thinkful... 2018-10-11  \n",
       "\n",
       "[5211 rows x 27 columns]"
      ],
      "text/html": "<div>\n<style scoped>\n    .dataframe tbody tr th:only-of-type {\n        vertical-align: middle;\n    }\n\n    .dataframe tbody tr th {\n        vertical-align: top;\n    }\n\n    .dataframe thead th {\n        text-align: right;\n    }\n</style>\n<table border=\"1\" class=\"dataframe\">\n  <thead>\n    <tr style=\"text-align: right;\">\n      <th></th>\n      <th>url</th>\n      <th>repository_url</th>\n      <th>labels_url</th>\n      <th>comments_url</th>\n      <th>events_url</th>\n      <th>html_url</th>\n      <th>id</th>\n      <th>node_id</th>\n      <th>number</th>\n      <th>title</th>\n      <th>...</th>\n      <th>comments</th>\n      <th>created_at</th>\n      <th>updated_at</th>\n      <th>closed_at</th>\n      <th>author_association</th>\n      <th>active_lock_reason</th>\n      <th>body</th>\n      <th>performed_via_github_app</th>\n      <th>pull_request</th>\n      <th>date</th>\n    </tr>\n  </thead>\n  <tbody>\n    <tr>\n      <th>0</th>\n      <td>https://api.github.com/repos/Thinkful-Ed/web-d...</td>\n      <td>https://api.github.com/repos/Thinkful-Ed/web-d...</td>\n      <td>https://api.github.com/repos/Thinkful-Ed/web-d...</td>\n      <td>https://api.github.com/repos/Thinkful-Ed/web-d...</td>\n      <td>https://api.github.com/repos/Thinkful-Ed/web-d...</td>\n      <td>https://github.com/Thinkful-Ed/web-dev-program...</td>\n      <td>761801678</td>\n      <td>MDU6SXNzdWU3NjE4MDE2Nzg=</td>\n      <td>5211</td>\n      <td>User-submitted feedback for NODE-POSTGRES</td>\n      <td>...</td>\n      <td>0</td>\n      <td>2020-12-11T02:21:07Z</td>\n      <td>2020-12-11T02:21:07Z</td>\n      <td>NaN</td>\n      <td>NONE</td>\n      <td>NaN</td>\n      <td>\\nCatherine Pedersen (cathy.pedersen@gmail.com...</td>\n      <td>NaN</td>\n      <td>NaN</td>\n      <td>2020-12-11</td>\n    </tr>\n    <tr>\n      <th>1</th>\n      <td>https://api.github.com/repos/Thinkful-Ed/web-d...</td>\n      <td>https://api.github.com/repos/Thinkful-Ed/web-d...</td>\n      <td>https://api.github.com/repos/Thinkful-Ed/web-d...</td>\n      <td>https://api.github.com/repos/Thinkful-Ed/web-d...</td>\n      <td>https://api.github.com/repos/Thinkful-Ed/web-d...</td>\n      <td>https://github.com/Thinkful-Ed/web-dev-program...</td>\n      <td>761775978</td>\n      <td>MDExOlB1bGxSZXF1ZXN0NTM2MzkzMTQy</td>\n      <td>5210</td>\n      <td>3.5.2 Connecting to Databases with Knex review</td>\n      <td>...</td>\n      <td>0</td>\n      <td>2020-12-11T01:35:54Z</td>\n      <td>2020-12-11T01:35:54Z</td>\n      <td>NaN</td>\n      <td>CONTRIBUTOR</td>\n      <td>NaN</td>\n      <td>- Minor typo fix - missing word</td>\n      <td>NaN</td>\n      <td>{'url': 'https://api.github.com/repos/Thinkful...</td>\n      <td>2020-12-11</td>\n    </tr>\n    <tr>\n      <th>2</th>\n      <td>https://api.github.com/repos/Thinkful-Ed/web-d...</td>\n      <td>https://api.github.com/repos/Thinkful-Ed/web-d...</td>\n      <td>https://api.github.com/repos/Thinkful-Ed/web-d...</td>\n      <td>https://api.github.com/repos/Thinkful-Ed/web-d...</td>\n      <td>https://api.github.com/repos/Thinkful-Ed/web-d...</td>\n      <td>https://github.com/Thinkful-Ed/web-dev-program...</td>\n      <td>761739936</td>\n      <td>MDExOlB1bGxSZXF1ZXN0NTM2MzYxOTAx</td>\n      <td>5209</td>\n      <td>3.5.1 Knex config review</td>\n      <td>...</td>\n      <td>1</td>\n      <td>2020-12-11T00:24:10Z</td>\n      <td>2020-12-11T00:28:17Z</td>\n      <td>NaN</td>\n      <td>CONTRIBUTOR</td>\n      <td>NaN</td>\n      <td>- Minor wording update - wanted to separate t...</td>\n      <td>NaN</td>\n      <td>{'url': 'https://api.github.com/repos/Thinkful...</td>\n      <td>2020-12-11</td>\n    </tr>\n    <tr>\n      <th>3</th>\n      <td>https://api.github.com/repos/Thinkful-Ed/web-d...</td>\n      <td>https://api.github.com/repos/Thinkful-Ed/web-d...</td>\n      <td>https://api.github.com/repos/Thinkful-Ed/web-d...</td>\n      <td>https://api.github.com/repos/Thinkful-Ed/web-d...</td>\n      <td>https://api.github.com/repos/Thinkful-Ed/web-d...</td>\n      <td>https://github.com/Thinkful-Ed/web-dev-program...</td>\n      <td>761712032</td>\n      <td>MDExOlB1bGxSZXF1ZXN0NTM2MzM3ODQ2</td>\n      <td>5208</td>\n      <td>Fix links</td>\n      <td>...</td>\n      <td>0</td>\n      <td>2020-12-10T23:31:48Z</td>\n      <td>2020-12-10T23:33:26Z</td>\n      <td>2020-12-10T23:33:26Z</td>\n      <td>COLLABORATOR</td>\n      <td>NaN</td>\n      <td>NaN</td>\n      <td>NaN</td>\n      <td>{'url': 'https://api.github.com/repos/Thinkful...</td>\n      <td>2020-12-10</td>\n    </tr>\n    <tr>\n      <th>4</th>\n      <td>https://api.github.com/repos/Thinkful-Ed/web-d...</td>\n      <td>https://api.github.com/repos/Thinkful-Ed/web-d...</td>\n      <td>https://api.github.com/repos/Thinkful-Ed/web-d...</td>\n      <td>https://api.github.com/repos/Thinkful-Ed/web-d...</td>\n      <td>https://api.github.com/repos/Thinkful-Ed/web-d...</td>\n      <td>https://github.com/Thinkful-Ed/web-dev-program...</td>\n      <td>761641172</td>\n      <td>MDExOlB1bGxSZXF1ZXN0NTM2Mjc3NTA0</td>\n      <td>5207</td>\n      <td>Applying copyedits</td>\n      <td>...</td>\n      <td>0</td>\n      <td>2020-12-10T21:44:03Z</td>\n      <td>2020-12-10T21:44:29Z</td>\n      <td>2020-12-10T21:44:24Z</td>\n      <td>CONTRIBUTOR</td>\n      <td>NaN</td>\n      <td>NaN</td>\n      <td>NaN</td>\n      <td>{'url': 'https://api.github.com/repos/Thinkful...</td>\n      <td>2020-12-10</td>\n    </tr>\n    <tr>\n      <th>...</th>\n      <td>...</td>\n      <td>...</td>\n      <td>...</td>\n      <td>...</td>\n      <td>...</td>\n      <td>...</td>\n      <td>...</td>\n      <td>...</td>\n      <td>...</td>\n      <td>...</td>\n      <td>...</td>\n      <td>...</td>\n      <td>...</td>\n      <td>...</td>\n      <td>...</td>\n      <td>...</td>\n      <td>...</td>\n      <td>...</td>\n      <td>...</td>\n      <td>...</td>\n      <td>...</td>\n    </tr>\n    <tr>\n      <th>5206</th>\n      <td>https://api.github.com/repos/Thinkful-Ed/web-d...</td>\n      <td>https://api.github.com/repos/Thinkful-Ed/web-d...</td>\n      <td>https://api.github.com/repos/Thinkful-Ed/web-d...</td>\n      <td>https://api.github.com/repos/Thinkful-Ed/web-d...</td>\n      <td>https://api.github.com/repos/Thinkful-Ed/web-d...</td>\n      <td>https://github.com/Thinkful-Ed/web-dev-program...</td>\n      <td>370601209</td>\n      <td>MDExOlB1bGxSZXF1ZXN0MjIzMjQxMzYw</td>\n      <td>5</td>\n      <td>Spec: react component composition</td>\n      <td>...</td>\n      <td>0</td>\n      <td>2018-10-16T13:02:41Z</td>\n      <td>2018-10-23T10:11:27Z</td>\n      <td>2018-10-22T13:20:00Z</td>\n      <td>COLLABORATOR</td>\n      <td>NaN</td>\n      <td>NaN</td>\n      <td>NaN</td>\n      <td>{'url': 'https://api.github.com/repos/Thinkful...</td>\n      <td>2018-10-16</td>\n    </tr>\n    <tr>\n      <th>5207</th>\n      <td>https://api.github.com/repos/Thinkful-Ed/web-d...</td>\n      <td>https://api.github.com/repos/Thinkful-Ed/web-d...</td>\n      <td>https://api.github.com/repos/Thinkful-Ed/web-d...</td>\n      <td>https://api.github.com/repos/Thinkful-Ed/web-d...</td>\n      <td>https://api.github.com/repos/Thinkful-Ed/web-d...</td>\n      <td>https://github.com/Thinkful-Ed/web-dev-program...</td>\n      <td>370259840</td>\n      <td>MDExOlB1bGxSZXF1ZXN0MjIyOTc5ODk2</td>\n      <td>4</td>\n      <td>Spec: testing components</td>\n      <td>...</td>\n      <td>0</td>\n      <td>2018-10-15T17:13:17Z</td>\n      <td>2018-11-26T18:56:35Z</td>\n      <td>2018-11-26T18:56:32Z</td>\n      <td>CONTRIBUTOR</td>\n      <td>NaN</td>\n      <td>Testing components including\\r\\n - overview of...</td>\n      <td>NaN</td>\n      <td>{'url': 'https://api.github.com/repos/Thinkful...</td>\n      <td>2018-10-15</td>\n    </tr>\n    <tr>\n      <th>5208</th>\n      <td>https://api.github.com/repos/Thinkful-Ed/web-d...</td>\n      <td>https://api.github.com/repos/Thinkful-Ed/web-d...</td>\n      <td>https://api.github.com/repos/Thinkful-Ed/web-d...</td>\n      <td>https://api.github.com/repos/Thinkful-Ed/web-d...</td>\n      <td>https://api.github.com/repos/Thinkful-Ed/web-d...</td>\n      <td>https://github.com/Thinkful-Ed/web-dev-program...</td>\n      <td>369331966</td>\n      <td>MDExOlB1bGxSZXF1ZXN0MjIyMjk5ODYx</td>\n      <td>3</td>\n      <td>Add circle config and builder</td>\n      <td>...</td>\n      <td>0</td>\n      <td>2018-10-11T22:35:52Z</td>\n      <td>2018-10-12T15:40:36Z</td>\n      <td>2018-10-12T15:40:33Z</td>\n      <td>CONTRIBUTOR</td>\n      <td>NaN</td>\n      <td>NaN</td>\n      <td>NaN</td>\n      <td>{'url': 'https://api.github.com/repos/Thinkful...</td>\n      <td>2018-10-11</td>\n    </tr>\n    <tr>\n      <th>5209</th>\n      <td>https://api.github.com/repos/Thinkful-Ed/web-d...</td>\n      <td>https://api.github.com/repos/Thinkful-Ed/web-d...</td>\n      <td>https://api.github.com/repos/Thinkful-Ed/web-d...</td>\n      <td>https://api.github.com/repos/Thinkful-Ed/web-d...</td>\n      <td>https://api.github.com/repos/Thinkful-Ed/web-d...</td>\n      <td>https://github.com/Thinkful-Ed/web-dev-program...</td>\n      <td>369317718</td>\n      <td>MDExOlB1bGxSZXF1ZXN0MjIyMjg5NDU4</td>\n      <td>2</td>\n      <td>Spec: npm setup</td>\n      <td>...</td>\n      <td>0</td>\n      <td>2018-10-11T21:46:48Z</td>\n      <td>2018-10-22T13:37:26Z</td>\n      <td>2018-10-22T13:18:52Z</td>\n      <td>CONTRIBUTOR</td>\n      <td>NaN</td>\n      <td>Specification for the NPM setup checkpoint inc...</td>\n      <td>NaN</td>\n      <td>{'url': 'https://api.github.com/repos/Thinkful...</td>\n      <td>2018-10-11</td>\n    </tr>\n    <tr>\n      <th>5210</th>\n      <td>https://api.github.com/repos/Thinkful-Ed/web-d...</td>\n      <td>https://api.github.com/repos/Thinkful-Ed/web-d...</td>\n      <td>https://api.github.com/repos/Thinkful-Ed/web-d...</td>\n      <td>https://api.github.com/repos/Thinkful-Ed/web-d...</td>\n      <td>https://api.github.com/repos/Thinkful-Ed/web-d...</td>\n      <td>https://github.com/Thinkful-Ed/web-dev-program...</td>\n      <td>369298359</td>\n      <td>MDExOlB1bGxSZXF1ZXN0MjIyMjc0MTQ5</td>\n      <td>1</td>\n      <td>Spec: react hello world</td>\n      <td>...</td>\n      <td>0</td>\n      <td>2018-10-11T20:46:12Z</td>\n      <td>2018-10-22T13:33:24Z</td>\n      <td>2018-10-22T13:18:31Z</td>\n      <td>COLLABORATOR</td>\n      <td>NaN</td>\n      <td>NaN</td>\n      <td>NaN</td>\n      <td>{'url': 'https://api.github.com/repos/Thinkful...</td>\n      <td>2018-10-11</td>\n    </tr>\n  </tbody>\n</table>\n<p>5211 rows × 27 columns</p>\n</div>"
     },
     "metadata": {},
     "execution_count": 3
    }
   ],
   "source": [
    "# read in an existing issues csv file from previous code run\n",
    "df = pd.read_csv('all_issues_web-dev-programs_2020-12-11.csv')\n",
    "df['date'] = pd.to_datetime(df['date'])\n",
    "df"
   ]
  },
  {
   "cell_type": "code",
   "execution_count": 6,
   "metadata": {},
   "outputs": [],
   "source": [
    "# add week column\n",
    "df['year'] = df['date'].dt.year\n",
    "df['week'] = df['date'].dt.week\n",
    "df['month'] = df['date'].dt.month"
   ]
  },
  {
   "cell_type": "code",
   "execution_count": 7,
   "metadata": {},
   "outputs": [
    {
     "output_type": "execute_result",
     "data": {
      "text/plain": [
       "                                                 url  \\\n",
       "0  https://api.github.com/repos/Thinkful-Ed/web-d...   \n",
       "1  https://api.github.com/repos/Thinkful-Ed/web-d...   \n",
       "2  https://api.github.com/repos/Thinkful-Ed/web-d...   \n",
       "3  https://api.github.com/repos/Thinkful-Ed/web-d...   \n",
       "4  https://api.github.com/repos/Thinkful-Ed/web-d...   \n",
       "\n",
       "                                      repository_url  \\\n",
       "0  https://api.github.com/repos/Thinkful-Ed/web-d...   \n",
       "1  https://api.github.com/repos/Thinkful-Ed/web-d...   \n",
       "2  https://api.github.com/repos/Thinkful-Ed/web-d...   \n",
       "3  https://api.github.com/repos/Thinkful-Ed/web-d...   \n",
       "4  https://api.github.com/repos/Thinkful-Ed/web-d...   \n",
       "\n",
       "                                          labels_url  \\\n",
       "0  https://api.github.com/repos/Thinkful-Ed/web-d...   \n",
       "1  https://api.github.com/repos/Thinkful-Ed/web-d...   \n",
       "2  https://api.github.com/repos/Thinkful-Ed/web-d...   \n",
       "3  https://api.github.com/repos/Thinkful-Ed/web-d...   \n",
       "4  https://api.github.com/repos/Thinkful-Ed/web-d...   \n",
       "\n",
       "                                        comments_url  \\\n",
       "0  https://api.github.com/repos/Thinkful-Ed/web-d...   \n",
       "1  https://api.github.com/repos/Thinkful-Ed/web-d...   \n",
       "2  https://api.github.com/repos/Thinkful-Ed/web-d...   \n",
       "3  https://api.github.com/repos/Thinkful-Ed/web-d...   \n",
       "4  https://api.github.com/repos/Thinkful-Ed/web-d...   \n",
       "\n",
       "                                          events_url  \\\n",
       "0  https://api.github.com/repos/Thinkful-Ed/web-d...   \n",
       "1  https://api.github.com/repos/Thinkful-Ed/web-d...   \n",
       "2  https://api.github.com/repos/Thinkful-Ed/web-d...   \n",
       "3  https://api.github.com/repos/Thinkful-Ed/web-d...   \n",
       "4  https://api.github.com/repos/Thinkful-Ed/web-d...   \n",
       "\n",
       "                                            html_url         id  \\\n",
       "0  https://github.com/Thinkful-Ed/web-dev-program...  761801678   \n",
       "1  https://github.com/Thinkful-Ed/web-dev-program...  761775978   \n",
       "2  https://github.com/Thinkful-Ed/web-dev-program...  761739936   \n",
       "3  https://github.com/Thinkful-Ed/web-dev-program...  761712032   \n",
       "4  https://github.com/Thinkful-Ed/web-dev-program...  761641172   \n",
       "\n",
       "                            node_id  number  \\\n",
       "0          MDU6SXNzdWU3NjE4MDE2Nzg=    5211   \n",
       "1  MDExOlB1bGxSZXF1ZXN0NTM2MzkzMTQy    5210   \n",
       "2  MDExOlB1bGxSZXF1ZXN0NTM2MzYxOTAx    5209   \n",
       "3  MDExOlB1bGxSZXF1ZXN0NTM2MzM3ODQ2    5208   \n",
       "4  MDExOlB1bGxSZXF1ZXN0NTM2Mjc3NTA0    5207   \n",
       "\n",
       "                                            title  ... author_association  \\\n",
       "0       User-submitted feedback for NODE-POSTGRES  ...               NONE   \n",
       "1  3.5.2 Connecting to Databases with Knex review  ...        CONTRIBUTOR   \n",
       "2                        3.5.1 Knex config review  ...        CONTRIBUTOR   \n",
       "3                                       Fix links  ...       COLLABORATOR   \n",
       "4                              Applying copyedits  ...        CONTRIBUTOR   \n",
       "\n",
       "  active_lock_reason                                               body  \\\n",
       "0                NaN  \\nCatherine Pedersen (cathy.pedersen@gmail.com...   \n",
       "1                NaN                    - Minor typo fix - missing word   \n",
       "2                NaN   - Minor wording update - wanted to separate t...   \n",
       "3                NaN                                                NaN   \n",
       "4                NaN                                                NaN   \n",
       "\n",
       "   performed_via_github_app  \\\n",
       "0                       NaN   \n",
       "1                       NaN   \n",
       "2                       NaN   \n",
       "3                       NaN   \n",
       "4                       NaN   \n",
       "\n",
       "                                        pull_request       date  \\\n",
       "0                                                NaN 2020-12-11   \n",
       "1  {'url': 'https://api.github.com/repos/Thinkful... 2020-12-11   \n",
       "2  {'url': 'https://api.github.com/repos/Thinkful... 2020-12-11   \n",
       "3  {'url': 'https://api.github.com/repos/Thinkful... 2020-12-10   \n",
       "4  {'url': 'https://api.github.com/repos/Thinkful... 2020-12-10   \n",
       "\n",
       "           module  year week month  \n",
       "0   NODE-POSTGRES  2020   50    12  \n",
       "1            None  2020   50    12  \n",
       "2            None  2020   50    12  \n",
       "3            None  2020   50    12  \n",
       "4            None  2020   50    12  \n",
       "\n",
       "[5 rows x 31 columns]"
      ],
      "text/html": "<div>\n<style scoped>\n    .dataframe tbody tr th:only-of-type {\n        vertical-align: middle;\n    }\n\n    .dataframe tbody tr th {\n        vertical-align: top;\n    }\n\n    .dataframe thead th {\n        text-align: right;\n    }\n</style>\n<table border=\"1\" class=\"dataframe\">\n  <thead>\n    <tr style=\"text-align: right;\">\n      <th></th>\n      <th>url</th>\n      <th>repository_url</th>\n      <th>labels_url</th>\n      <th>comments_url</th>\n      <th>events_url</th>\n      <th>html_url</th>\n      <th>id</th>\n      <th>node_id</th>\n      <th>number</th>\n      <th>title</th>\n      <th>...</th>\n      <th>author_association</th>\n      <th>active_lock_reason</th>\n      <th>body</th>\n      <th>performed_via_github_app</th>\n      <th>pull_request</th>\n      <th>date</th>\n      <th>module</th>\n      <th>year</th>\n      <th>week</th>\n      <th>month</th>\n    </tr>\n  </thead>\n  <tbody>\n    <tr>\n      <th>0</th>\n      <td>https://api.github.com/repos/Thinkful-Ed/web-d...</td>\n      <td>https://api.github.com/repos/Thinkful-Ed/web-d...</td>\n      <td>https://api.github.com/repos/Thinkful-Ed/web-d...</td>\n      <td>https://api.github.com/repos/Thinkful-Ed/web-d...</td>\n      <td>https://api.github.com/repos/Thinkful-Ed/web-d...</td>\n      <td>https://github.com/Thinkful-Ed/web-dev-program...</td>\n      <td>761801678</td>\n      <td>MDU6SXNzdWU3NjE4MDE2Nzg=</td>\n      <td>5211</td>\n      <td>User-submitted feedback for NODE-POSTGRES</td>\n      <td>...</td>\n      <td>NONE</td>\n      <td>NaN</td>\n      <td>\\nCatherine Pedersen (cathy.pedersen@gmail.com...</td>\n      <td>NaN</td>\n      <td>NaN</td>\n      <td>2020-12-11</td>\n      <td>NODE-POSTGRES</td>\n      <td>2020</td>\n      <td>50</td>\n      <td>12</td>\n    </tr>\n    <tr>\n      <th>1</th>\n      <td>https://api.github.com/repos/Thinkful-Ed/web-d...</td>\n      <td>https://api.github.com/repos/Thinkful-Ed/web-d...</td>\n      <td>https://api.github.com/repos/Thinkful-Ed/web-d...</td>\n      <td>https://api.github.com/repos/Thinkful-Ed/web-d...</td>\n      <td>https://api.github.com/repos/Thinkful-Ed/web-d...</td>\n      <td>https://github.com/Thinkful-Ed/web-dev-program...</td>\n      <td>761775978</td>\n      <td>MDExOlB1bGxSZXF1ZXN0NTM2MzkzMTQy</td>\n      <td>5210</td>\n      <td>3.5.2 Connecting to Databases with Knex review</td>\n      <td>...</td>\n      <td>CONTRIBUTOR</td>\n      <td>NaN</td>\n      <td>- Minor typo fix - missing word</td>\n      <td>NaN</td>\n      <td>{'url': 'https://api.github.com/repos/Thinkful...</td>\n      <td>2020-12-11</td>\n      <td>None</td>\n      <td>2020</td>\n      <td>50</td>\n      <td>12</td>\n    </tr>\n    <tr>\n      <th>2</th>\n      <td>https://api.github.com/repos/Thinkful-Ed/web-d...</td>\n      <td>https://api.github.com/repos/Thinkful-Ed/web-d...</td>\n      <td>https://api.github.com/repos/Thinkful-Ed/web-d...</td>\n      <td>https://api.github.com/repos/Thinkful-Ed/web-d...</td>\n      <td>https://api.github.com/repos/Thinkful-Ed/web-d...</td>\n      <td>https://github.com/Thinkful-Ed/web-dev-program...</td>\n      <td>761739936</td>\n      <td>MDExOlB1bGxSZXF1ZXN0NTM2MzYxOTAx</td>\n      <td>5209</td>\n      <td>3.5.1 Knex config review</td>\n      <td>...</td>\n      <td>CONTRIBUTOR</td>\n      <td>NaN</td>\n      <td>- Minor wording update - wanted to separate t...</td>\n      <td>NaN</td>\n      <td>{'url': 'https://api.github.com/repos/Thinkful...</td>\n      <td>2020-12-11</td>\n      <td>None</td>\n      <td>2020</td>\n      <td>50</td>\n      <td>12</td>\n    </tr>\n    <tr>\n      <th>3</th>\n      <td>https://api.github.com/repos/Thinkful-Ed/web-d...</td>\n      <td>https://api.github.com/repos/Thinkful-Ed/web-d...</td>\n      <td>https://api.github.com/repos/Thinkful-Ed/web-d...</td>\n      <td>https://api.github.com/repos/Thinkful-Ed/web-d...</td>\n      <td>https://api.github.com/repos/Thinkful-Ed/web-d...</td>\n      <td>https://github.com/Thinkful-Ed/web-dev-program...</td>\n      <td>761712032</td>\n      <td>MDExOlB1bGxSZXF1ZXN0NTM2MzM3ODQ2</td>\n      <td>5208</td>\n      <td>Fix links</td>\n      <td>...</td>\n      <td>COLLABORATOR</td>\n      <td>NaN</td>\n      <td>NaN</td>\n      <td>NaN</td>\n      <td>{'url': 'https://api.github.com/repos/Thinkful...</td>\n      <td>2020-12-10</td>\n      <td>None</td>\n      <td>2020</td>\n      <td>50</td>\n      <td>12</td>\n    </tr>\n    <tr>\n      <th>4</th>\n      <td>https://api.github.com/repos/Thinkful-Ed/web-d...</td>\n      <td>https://api.github.com/repos/Thinkful-Ed/web-d...</td>\n      <td>https://api.github.com/repos/Thinkful-Ed/web-d...</td>\n      <td>https://api.github.com/repos/Thinkful-Ed/web-d...</td>\n      <td>https://api.github.com/repos/Thinkful-Ed/web-d...</td>\n      <td>https://github.com/Thinkful-Ed/web-dev-program...</td>\n      <td>761641172</td>\n      <td>MDExOlB1bGxSZXF1ZXN0NTM2Mjc3NTA0</td>\n      <td>5207</td>\n      <td>Applying copyedits</td>\n      <td>...</td>\n      <td>CONTRIBUTOR</td>\n      <td>NaN</td>\n      <td>NaN</td>\n      <td>NaN</td>\n      <td>{'url': 'https://api.github.com/repos/Thinkful...</td>\n      <td>2020-12-10</td>\n      <td>None</td>\n      <td>2020</td>\n      <td>50</td>\n      <td>12</td>\n    </tr>\n  </tbody>\n</table>\n<p>5 rows × 31 columns</p>\n</div>"
     },
     "metadata": {},
     "execution_count": 7
    }
   ],
   "source": [
    "df.head()"
   ]
  },
  {
   "cell_type": "code",
   "execution_count": 8,
   "metadata": {},
   "outputs": [
    {
     "output_type": "execute_result",
     "data": {
      "text/plain": [
       "      year  week                             modules  cnt\n",
       "0     2018    45                       `html-css-v1`    1\n",
       "1     2018    45                        asset upload    1\n",
       "2     2018    46                    careers branding    1\n",
       "3     2018    46                             matting    1\n",
       "4     2019     1       \"Working with large datasets\"    1\n",
       "...    ...   ...                                 ...  ...\n",
       "1310  2020    50                        main->master    1\n",
       "1311  2020    50                 wd-prep-orientation    1\n",
       "1312  2020    50           zid-pf-developer-workflow    5\n",
       "1313  2020    50       zid-pf-javascript-foundations    4\n",
       "1314  2020    50   zid-pf-javascript-on-your-machine    7\n",
       "\n",
       "[1315 rows x 4 columns]"
      ],
      "text/html": "<div>\n<style scoped>\n    .dataframe tbody tr th:only-of-type {\n        vertical-align: middle;\n    }\n\n    .dataframe tbody tr th {\n        vertical-align: top;\n    }\n\n    .dataframe thead th {\n        text-align: right;\n    }\n</style>\n<table border=\"1\" class=\"dataframe\">\n  <thead>\n    <tr style=\"text-align: right;\">\n      <th></th>\n      <th>year</th>\n      <th>week</th>\n      <th>modules</th>\n      <th>cnt</th>\n    </tr>\n  </thead>\n  <tbody>\n    <tr>\n      <th>0</th>\n      <td>2018</td>\n      <td>45</td>\n      <td>`html-css-v1`</td>\n      <td>1</td>\n    </tr>\n    <tr>\n      <th>1</th>\n      <td>2018</td>\n      <td>45</td>\n      <td>asset upload</td>\n      <td>1</td>\n    </tr>\n    <tr>\n      <th>2</th>\n      <td>2018</td>\n      <td>46</td>\n      <td>careers branding</td>\n      <td>1</td>\n    </tr>\n    <tr>\n      <th>3</th>\n      <td>2018</td>\n      <td>46</td>\n      <td>matting</td>\n      <td>1</td>\n    </tr>\n    <tr>\n      <th>4</th>\n      <td>2019</td>\n      <td>1</td>\n      <td>\"Working with large datasets\"</td>\n      <td>1</td>\n    </tr>\n    <tr>\n      <th>...</th>\n      <td>...</td>\n      <td>...</td>\n      <td>...</td>\n      <td>...</td>\n    </tr>\n    <tr>\n      <th>1310</th>\n      <td>2020</td>\n      <td>50</td>\n      <td>main-&gt;master</td>\n      <td>1</td>\n    </tr>\n    <tr>\n      <th>1311</th>\n      <td>2020</td>\n      <td>50</td>\n      <td>wd-prep-orientation</td>\n      <td>1</td>\n    </tr>\n    <tr>\n      <th>1312</th>\n      <td>2020</td>\n      <td>50</td>\n      <td>zid-pf-developer-workflow</td>\n      <td>5</td>\n    </tr>\n    <tr>\n      <th>1313</th>\n      <td>2020</td>\n      <td>50</td>\n      <td>zid-pf-javascript-foundations</td>\n      <td>4</td>\n    </tr>\n    <tr>\n      <th>1314</th>\n      <td>2020</td>\n      <td>50</td>\n      <td>zid-pf-javascript-on-your-machine</td>\n      <td>7</td>\n    </tr>\n  </tbody>\n</table>\n<p>1315 rows × 4 columns</p>\n</div>"
     },
     "metadata": {},
     "execution_count": 8
    }
   ],
   "source": [
    "#group by date and module\n",
    "module_date = pd.DataFrame(df[['year','week','module']].groupby(['year','week','module']).size()).reset_index()\n",
    "module_date.columns = ['year','week','modules','cnt']\n",
    "module_date"
   ]
  },
  {
   "cell_type": "code",
   "execution_count": 160,
   "metadata": {},
   "outputs": [],
   "source": [
    "#module_date.to_csv('Weekly_issue_counts_by_module_uxui-programs_2020-12-11.csv')\n",
    "module_date.to_csv('Weekly_issue_counts_by_module_'+str(REPO)+'_'+str(today)+'.csv', index=False)"
   ]
  },
  {
   "cell_type": "code",
   "execution_count": null,
   "metadata": {},
   "outputs": [],
   "source": []
  },
  {
   "cell_type": "code",
   "execution_count": 53,
   "metadata": {},
   "outputs": [
    {
     "output_type": "display_data",
     "data": {
      "application/vnd.plotly.v1+json": {
       "config": {
        "plotlyServerURL": "https://plot.ly"
       },
       "data": [
        {
         "hovertemplate": "date=%{x}<br>count=%{y}<extra></extra>",
         "legendgroup": "",
         "line": {
          "color": "#636efa",
          "dash": "solid"
         },
         "mode": "lines",
         "name": "",
         "orientation": "v",
         "showlegend": false,
         "type": "scatter",
         "x": [
          "2019-10-04",
          "2019-10-15",
          "2019-10-16",
          "2019-10-18",
          "2019-10-21",
          "2019-10-22",
          "2019-10-23",
          "2019-11-04",
          "2019-11-07",
          "2019-11-19",
          "2019-11-21",
          "2019-11-22",
          "2019-11-27",
          "2019-11-30",
          "2019-12-03",
          "2019-12-05",
          "2019-12-06",
          "2019-12-08",
          "2019-12-13",
          "2019-12-14",
          "2019-12-15",
          "2019-12-16",
          "2019-12-17",
          "2019-12-22",
          "2020-01-02",
          "2020-01-08",
          "2020-01-11",
          "2020-01-12",
          "2020-01-13",
          "2020-01-21",
          "2020-02-07",
          "2020-02-19",
          "2020-03-09",
          "2020-03-19",
          "2020-03-24",
          "2020-03-30",
          "2020-04-06",
          "2020-04-08",
          "2020-04-12",
          "2020-04-14",
          "2020-04-17",
          "2020-04-20",
          "2020-04-22",
          "2020-04-23",
          "2020-04-24",
          "2020-04-28",
          "2020-05-03",
          "2020-05-04",
          "2020-05-05",
          "2020-05-07",
          "2020-05-12",
          "2020-05-13",
          "2020-05-20",
          "2020-05-21",
          "2020-05-22",
          "2020-05-23",
          "2020-05-28",
          "2020-06-03",
          "2020-06-14",
          "2020-06-16",
          "2020-06-21",
          "2020-06-24",
          "2020-06-27",
          "2020-07-07",
          "2020-07-09",
          "2020-07-13",
          "2020-07-25",
          "2020-07-29",
          "2020-07-30",
          "2020-08-06",
          "2020-08-08",
          "2020-08-12",
          "2020-08-27",
          "2020-09-02",
          "2020-09-08",
          "2020-09-10",
          "2020-09-15",
          "2020-09-22",
          "2020-09-24",
          "2020-10-02",
          "2020-10-12",
          "2020-10-14",
          "2020-10-16",
          "2020-10-20",
          "2020-10-22",
          "2020-10-23",
          "2020-10-27",
          "2020-10-29",
          "2020-10-30",
          "2020-11-02",
          "2020-11-04",
          "2020-11-05",
          "2020-11-06",
          "2020-11-09",
          "2020-11-10",
          "2020-11-12",
          "2020-11-13",
          "2020-11-17",
          "2020-11-30",
          "2020-12-05",
          "2020-12-08"
         ],
         "xaxis": "x",
         "y": [
          1,
          1,
          1,
          6,
          1,
          2,
          1,
          1,
          1,
          1,
          1,
          1,
          1,
          1,
          4,
          3,
          7,
          2,
          1,
          2,
          1,
          1,
          2,
          1,
          3,
          2,
          1,
          2,
          1,
          1,
          1,
          1,
          1,
          1,
          1,
          1,
          2,
          2,
          2,
          1,
          2,
          1,
          1,
          1,
          1,
          1,
          1,
          1,
          1,
          1,
          1,
          1,
          1,
          2,
          1,
          1,
          1,
          1,
          2,
          1,
          1,
          2,
          1,
          1,
          1,
          1,
          1,
          1,
          2,
          1,
          1,
          1,
          2,
          1,
          1,
          1,
          1,
          4,
          1,
          1,
          4,
          1,
          1,
          1,
          5,
          11,
          1,
          1,
          3,
          1,
          1,
          1,
          4,
          1,
          1,
          1,
          2,
          1,
          1,
          2,
          1
         ],
         "yaxis": "y"
        }
       ],
       "layout": {
        "legend": {
         "tracegroupgap": 0
        },
        "margin": {
         "t": 60
        },
        "template": {
         "data": {
          "bar": [
           {
            "error_x": {
             "color": "#2a3f5f"
            },
            "error_y": {
             "color": "#2a3f5f"
            },
            "marker": {
             "line": {
              "color": "#E5ECF6",
              "width": 0.5
             }
            },
            "type": "bar"
           }
          ],
          "barpolar": [
           {
            "marker": {
             "line": {
              "color": "#E5ECF6",
              "width": 0.5
             }
            },
            "type": "barpolar"
           }
          ],
          "carpet": [
           {
            "aaxis": {
             "endlinecolor": "#2a3f5f",
             "gridcolor": "white",
             "linecolor": "white",
             "minorgridcolor": "white",
             "startlinecolor": "#2a3f5f"
            },
            "baxis": {
             "endlinecolor": "#2a3f5f",
             "gridcolor": "white",
             "linecolor": "white",
             "minorgridcolor": "white",
             "startlinecolor": "#2a3f5f"
            },
            "type": "carpet"
           }
          ],
          "choropleth": [
           {
            "colorbar": {
             "outlinewidth": 0,
             "ticks": ""
            },
            "type": "choropleth"
           }
          ],
          "contour": [
           {
            "colorbar": {
             "outlinewidth": 0,
             "ticks": ""
            },
            "colorscale": [
             [
              0,
              "#0d0887"
             ],
             [
              0.1111111111111111,
              "#46039f"
             ],
             [
              0.2222222222222222,
              "#7201a8"
             ],
             [
              0.3333333333333333,
              "#9c179e"
             ],
             [
              0.4444444444444444,
              "#bd3786"
             ],
             [
              0.5555555555555556,
              "#d8576b"
             ],
             [
              0.6666666666666666,
              "#ed7953"
             ],
             [
              0.7777777777777778,
              "#fb9f3a"
             ],
             [
              0.8888888888888888,
              "#fdca26"
             ],
             [
              1,
              "#f0f921"
             ]
            ],
            "type": "contour"
           }
          ],
          "contourcarpet": [
           {
            "colorbar": {
             "outlinewidth": 0,
             "ticks": ""
            },
            "type": "contourcarpet"
           }
          ],
          "heatmap": [
           {
            "colorbar": {
             "outlinewidth": 0,
             "ticks": ""
            },
            "colorscale": [
             [
              0,
              "#0d0887"
             ],
             [
              0.1111111111111111,
              "#46039f"
             ],
             [
              0.2222222222222222,
              "#7201a8"
             ],
             [
              0.3333333333333333,
              "#9c179e"
             ],
             [
              0.4444444444444444,
              "#bd3786"
             ],
             [
              0.5555555555555556,
              "#d8576b"
             ],
             [
              0.6666666666666666,
              "#ed7953"
             ],
             [
              0.7777777777777778,
              "#fb9f3a"
             ],
             [
              0.8888888888888888,
              "#fdca26"
             ],
             [
              1,
              "#f0f921"
             ]
            ],
            "type": "heatmap"
           }
          ],
          "heatmapgl": [
           {
            "colorbar": {
             "outlinewidth": 0,
             "ticks": ""
            },
            "colorscale": [
             [
              0,
              "#0d0887"
             ],
             [
              0.1111111111111111,
              "#46039f"
             ],
             [
              0.2222222222222222,
              "#7201a8"
             ],
             [
              0.3333333333333333,
              "#9c179e"
             ],
             [
              0.4444444444444444,
              "#bd3786"
             ],
             [
              0.5555555555555556,
              "#d8576b"
             ],
             [
              0.6666666666666666,
              "#ed7953"
             ],
             [
              0.7777777777777778,
              "#fb9f3a"
             ],
             [
              0.8888888888888888,
              "#fdca26"
             ],
             [
              1,
              "#f0f921"
             ]
            ],
            "type": "heatmapgl"
           }
          ],
          "histogram": [
           {
            "marker": {
             "colorbar": {
              "outlinewidth": 0,
              "ticks": ""
             }
            },
            "type": "histogram"
           }
          ],
          "histogram2d": [
           {
            "colorbar": {
             "outlinewidth": 0,
             "ticks": ""
            },
            "colorscale": [
             [
              0,
              "#0d0887"
             ],
             [
              0.1111111111111111,
              "#46039f"
             ],
             [
              0.2222222222222222,
              "#7201a8"
             ],
             [
              0.3333333333333333,
              "#9c179e"
             ],
             [
              0.4444444444444444,
              "#bd3786"
             ],
             [
              0.5555555555555556,
              "#d8576b"
             ],
             [
              0.6666666666666666,
              "#ed7953"
             ],
             [
              0.7777777777777778,
              "#fb9f3a"
             ],
             [
              0.8888888888888888,
              "#fdca26"
             ],
             [
              1,
              "#f0f921"
             ]
            ],
            "type": "histogram2d"
           }
          ],
          "histogram2dcontour": [
           {
            "colorbar": {
             "outlinewidth": 0,
             "ticks": ""
            },
            "colorscale": [
             [
              0,
              "#0d0887"
             ],
             [
              0.1111111111111111,
              "#46039f"
             ],
             [
              0.2222222222222222,
              "#7201a8"
             ],
             [
              0.3333333333333333,
              "#9c179e"
             ],
             [
              0.4444444444444444,
              "#bd3786"
             ],
             [
              0.5555555555555556,
              "#d8576b"
             ],
             [
              0.6666666666666666,
              "#ed7953"
             ],
             [
              0.7777777777777778,
              "#fb9f3a"
             ],
             [
              0.8888888888888888,
              "#fdca26"
             ],
             [
              1,
              "#f0f921"
             ]
            ],
            "type": "histogram2dcontour"
           }
          ],
          "mesh3d": [
           {
            "colorbar": {
             "outlinewidth": 0,
             "ticks": ""
            },
            "type": "mesh3d"
           }
          ],
          "parcoords": [
           {
            "line": {
             "colorbar": {
              "outlinewidth": 0,
              "ticks": ""
             }
            },
            "type": "parcoords"
           }
          ],
          "pie": [
           {
            "automargin": true,
            "type": "pie"
           }
          ],
          "scatter": [
           {
            "marker": {
             "colorbar": {
              "outlinewidth": 0,
              "ticks": ""
             }
            },
            "type": "scatter"
           }
          ],
          "scatter3d": [
           {
            "line": {
             "colorbar": {
              "outlinewidth": 0,
              "ticks": ""
             }
            },
            "marker": {
             "colorbar": {
              "outlinewidth": 0,
              "ticks": ""
             }
            },
            "type": "scatter3d"
           }
          ],
          "scattercarpet": [
           {
            "marker": {
             "colorbar": {
              "outlinewidth": 0,
              "ticks": ""
             }
            },
            "type": "scattercarpet"
           }
          ],
          "scattergeo": [
           {
            "marker": {
             "colorbar": {
              "outlinewidth": 0,
              "ticks": ""
             }
            },
            "type": "scattergeo"
           }
          ],
          "scattergl": [
           {
            "marker": {
             "colorbar": {
              "outlinewidth": 0,
              "ticks": ""
             }
            },
            "type": "scattergl"
           }
          ],
          "scattermapbox": [
           {
            "marker": {
             "colorbar": {
              "outlinewidth": 0,
              "ticks": ""
             }
            },
            "type": "scattermapbox"
           }
          ],
          "scatterpolar": [
           {
            "marker": {
             "colorbar": {
              "outlinewidth": 0,
              "ticks": ""
             }
            },
            "type": "scatterpolar"
           }
          ],
          "scatterpolargl": [
           {
            "marker": {
             "colorbar": {
              "outlinewidth": 0,
              "ticks": ""
             }
            },
            "type": "scatterpolargl"
           }
          ],
          "scatterternary": [
           {
            "marker": {
             "colorbar": {
              "outlinewidth": 0,
              "ticks": ""
             }
            },
            "type": "scatterternary"
           }
          ],
          "surface": [
           {
            "colorbar": {
             "outlinewidth": 0,
             "ticks": ""
            },
            "colorscale": [
             [
              0,
              "#0d0887"
             ],
             [
              0.1111111111111111,
              "#46039f"
             ],
             [
              0.2222222222222222,
              "#7201a8"
             ],
             [
              0.3333333333333333,
              "#9c179e"
             ],
             [
              0.4444444444444444,
              "#bd3786"
             ],
             [
              0.5555555555555556,
              "#d8576b"
             ],
             [
              0.6666666666666666,
              "#ed7953"
             ],
             [
              0.7777777777777778,
              "#fb9f3a"
             ],
             [
              0.8888888888888888,
              "#fdca26"
             ],
             [
              1,
              "#f0f921"
             ]
            ],
            "type": "surface"
           }
          ],
          "table": [
           {
            "cells": {
             "fill": {
              "color": "#EBF0F8"
             },
             "line": {
              "color": "white"
             }
            },
            "header": {
             "fill": {
              "color": "#C8D4E3"
             },
             "line": {
              "color": "white"
             }
            },
            "type": "table"
           }
          ]
         },
         "layout": {
          "annotationdefaults": {
           "arrowcolor": "#2a3f5f",
           "arrowhead": 0,
           "arrowwidth": 1
          },
          "coloraxis": {
           "colorbar": {
            "outlinewidth": 0,
            "ticks": ""
           }
          },
          "colorscale": {
           "diverging": [
            [
             0,
             "#8e0152"
            ],
            [
             0.1,
             "#c51b7d"
            ],
            [
             0.2,
             "#de77ae"
            ],
            [
             0.3,
             "#f1b6da"
            ],
            [
             0.4,
             "#fde0ef"
            ],
            [
             0.5,
             "#f7f7f7"
            ],
            [
             0.6,
             "#e6f5d0"
            ],
            [
             0.7,
             "#b8e186"
            ],
            [
             0.8,
             "#7fbc41"
            ],
            [
             0.9,
             "#4d9221"
            ],
            [
             1,
             "#276419"
            ]
           ],
           "sequential": [
            [
             0,
             "#0d0887"
            ],
            [
             0.1111111111111111,
             "#46039f"
            ],
            [
             0.2222222222222222,
             "#7201a8"
            ],
            [
             0.3333333333333333,
             "#9c179e"
            ],
            [
             0.4444444444444444,
             "#bd3786"
            ],
            [
             0.5555555555555556,
             "#d8576b"
            ],
            [
             0.6666666666666666,
             "#ed7953"
            ],
            [
             0.7777777777777778,
             "#fb9f3a"
            ],
            [
             0.8888888888888888,
             "#fdca26"
            ],
            [
             1,
             "#f0f921"
            ]
           ],
           "sequentialminus": [
            [
             0,
             "#0d0887"
            ],
            [
             0.1111111111111111,
             "#46039f"
            ],
            [
             0.2222222222222222,
             "#7201a8"
            ],
            [
             0.3333333333333333,
             "#9c179e"
            ],
            [
             0.4444444444444444,
             "#bd3786"
            ],
            [
             0.5555555555555556,
             "#d8576b"
            ],
            [
             0.6666666666666666,
             "#ed7953"
            ],
            [
             0.7777777777777778,
             "#fb9f3a"
            ],
            [
             0.8888888888888888,
             "#fdca26"
            ],
            [
             1,
             "#f0f921"
            ]
           ]
          },
          "colorway": [
           "#636efa",
           "#EF553B",
           "#00cc96",
           "#ab63fa",
           "#FFA15A",
           "#19d3f3",
           "#FF6692",
           "#B6E880",
           "#FF97FF",
           "#FECB52"
          ],
          "font": {
           "color": "#2a3f5f"
          },
          "geo": {
           "bgcolor": "white",
           "lakecolor": "white",
           "landcolor": "#E5ECF6",
           "showlakes": true,
           "showland": true,
           "subunitcolor": "white"
          },
          "hoverlabel": {
           "align": "left"
          },
          "hovermode": "closest",
          "mapbox": {
           "style": "light"
          },
          "paper_bgcolor": "white",
          "plot_bgcolor": "#E5ECF6",
          "polar": {
           "angularaxis": {
            "gridcolor": "white",
            "linecolor": "white",
            "ticks": ""
           },
           "bgcolor": "#E5ECF6",
           "radialaxis": {
            "gridcolor": "white",
            "linecolor": "white",
            "ticks": ""
           }
          },
          "scene": {
           "xaxis": {
            "backgroundcolor": "#E5ECF6",
            "gridcolor": "white",
            "gridwidth": 2,
            "linecolor": "white",
            "showbackground": true,
            "ticks": "",
            "zerolinecolor": "white"
           },
           "yaxis": {
            "backgroundcolor": "#E5ECF6",
            "gridcolor": "white",
            "gridwidth": 2,
            "linecolor": "white",
            "showbackground": true,
            "ticks": "",
            "zerolinecolor": "white"
           },
           "zaxis": {
            "backgroundcolor": "#E5ECF6",
            "gridcolor": "white",
            "gridwidth": 2,
            "linecolor": "white",
            "showbackground": true,
            "ticks": "",
            "zerolinecolor": "white"
           }
          },
          "shapedefaults": {
           "line": {
            "color": "#2a3f5f"
           }
          },
          "ternary": {
           "aaxis": {
            "gridcolor": "white",
            "linecolor": "white",
            "ticks": ""
           },
           "baxis": {
            "gridcolor": "white",
            "linecolor": "white",
            "ticks": ""
           },
           "bgcolor": "#E5ECF6",
           "caxis": {
            "gridcolor": "white",
            "linecolor": "white",
            "ticks": ""
           }
          },
          "title": {
           "x": 0.05
          },
          "xaxis": {
           "automargin": true,
           "gridcolor": "white",
           "linecolor": "white",
           "ticks": "",
           "title": {
            "standoff": 15
           },
           "zerolinecolor": "white",
           "zerolinewidth": 2
          },
          "yaxis": {
           "automargin": true,
           "gridcolor": "white",
           "linecolor": "white",
           "ticks": "",
           "title": {
            "standoff": 15
           },
           "zerolinecolor": "white",
           "zerolinewidth": 2
          }
         }
        },
        "xaxis": {
         "anchor": "y",
         "domain": [
          0,
          1
         ],
         "title": {
          "text": "date"
         }
        },
        "yaxis": {
         "anchor": "x",
         "domain": [
          0,
          1
         ],
         "title": {
          "text": "count"
         }
        }
       }
      }
     },
     "metadata": {}
    }
   ],
   "source": [
    "#group by date and plot\n",
    "by_date = pd.DataFrame(df[['date']].groupby(['date']).size()).reset_index()\n",
    "by_date.columns = ['date','count']\n",
    "import plotly.express as px\n",
    "\n",
    "fig = px.line(by_date, x='date', y=\"count\")\n",
    "fig.show()"
   ]
  },
  {
   "cell_type": "code",
   "execution_count": 54,
   "metadata": {},
   "outputs": [
    {
     "output_type": "display_data",
     "data": {
      "application/vnd.plotly.v1+json": {
       "config": {
        "plotlyServerURL": "https://plot.ly"
       },
       "data": [
        {
         "alignmentgroup": "True",
         "hovertemplate": "date=%{x}<br>dif=%{y}<extra></extra>",
         "legendgroup": "",
         "marker": {
          "color": "#636efa"
         },
         "name": "",
         "offsetgroup": "",
         "orientation": "v",
         "showlegend": false,
         "textposition": "auto",
         "type": "bar",
         "x": [
          "2019-10-04",
          "2019-10-15",
          "2019-10-16",
          "2019-10-18",
          "2019-10-21",
          "2019-10-22",
          "2019-10-23",
          "2019-11-04",
          "2019-11-07",
          "2019-11-19",
          "2019-11-21",
          "2019-11-22",
          "2019-11-27",
          "2019-11-30",
          "2019-12-03",
          "2019-12-05",
          "2019-12-06",
          "2019-12-08",
          "2019-12-13",
          "2019-12-14",
          "2019-12-15",
          "2019-12-16",
          "2019-12-17",
          "2019-12-22",
          "2020-01-02",
          "2020-01-08",
          "2020-01-11",
          "2020-01-12",
          "2020-01-13",
          "2020-01-21",
          "2020-02-07",
          "2020-02-19",
          "2020-03-09",
          "2020-03-19",
          "2020-03-24",
          "2020-03-30",
          "2020-04-06",
          "2020-04-08",
          "2020-04-12",
          "2020-04-14",
          "2020-04-17",
          "2020-04-20",
          "2020-04-22",
          "2020-04-23",
          "2020-04-24",
          "2020-04-28",
          "2020-05-03",
          "2020-05-04",
          "2020-05-05",
          "2020-05-07",
          "2020-05-12",
          "2020-05-13",
          "2020-05-20",
          "2020-05-21",
          "2020-05-22",
          "2020-05-23",
          "2020-05-28",
          "2020-06-03",
          "2020-06-14",
          "2020-06-16",
          "2020-06-21",
          "2020-06-24",
          "2020-06-27",
          "2020-07-07",
          "2020-07-09",
          "2020-07-13",
          "2020-07-25",
          "2020-07-29",
          "2020-07-30",
          "2020-08-06",
          "2020-08-08",
          "2020-08-12",
          "2020-08-27",
          "2020-09-02",
          "2020-09-08",
          "2020-09-10",
          "2020-09-15",
          "2020-09-22",
          "2020-09-24",
          "2020-10-02",
          "2020-10-12",
          "2020-10-14",
          "2020-10-16",
          "2020-10-20",
          "2020-10-22",
          "2020-10-23",
          "2020-10-27",
          "2020-10-29",
          "2020-10-30",
          "2020-11-02",
          "2020-11-04",
          "2020-11-05",
          "2020-11-06",
          "2020-11-09",
          "2020-11-10",
          "2020-11-12",
          "2020-11-13",
          "2020-11-17",
          "2020-11-30",
          "2020-12-05",
          "2020-12-08"
         ],
         "xaxis": "x",
         "y": [
          null,
          0,
          0,
          5,
          -5,
          1,
          -1,
          0,
          0,
          0,
          0,
          0,
          0,
          0,
          3,
          -1,
          4,
          -5,
          -1,
          1,
          -1,
          0,
          1,
          -1,
          2,
          -1,
          -1,
          1,
          -1,
          0,
          0,
          0,
          0,
          0,
          0,
          0,
          1,
          0,
          0,
          -1,
          1,
          -1,
          0,
          0,
          0,
          0,
          0,
          0,
          0,
          0,
          0,
          0,
          0,
          1,
          -1,
          0,
          0,
          0,
          1,
          -1,
          0,
          1,
          -1,
          0,
          0,
          0,
          0,
          0,
          1,
          -1,
          0,
          0,
          1,
          -1,
          0,
          0,
          0,
          3,
          -3,
          0,
          3,
          -3,
          0,
          0,
          4,
          6,
          -10,
          0,
          2,
          -2,
          0,
          0,
          3,
          -3,
          0,
          0,
          1,
          -1,
          0,
          1,
          -1
         ],
         "yaxis": "y"
        }
       ],
       "layout": {
        "barmode": "relative",
        "legend": {
         "tracegroupgap": 0
        },
        "margin": {
         "t": 60
        },
        "template": {
         "data": {
          "bar": [
           {
            "error_x": {
             "color": "#2a3f5f"
            },
            "error_y": {
             "color": "#2a3f5f"
            },
            "marker": {
             "line": {
              "color": "#E5ECF6",
              "width": 0.5
             }
            },
            "type": "bar"
           }
          ],
          "barpolar": [
           {
            "marker": {
             "line": {
              "color": "#E5ECF6",
              "width": 0.5
             }
            },
            "type": "barpolar"
           }
          ],
          "carpet": [
           {
            "aaxis": {
             "endlinecolor": "#2a3f5f",
             "gridcolor": "white",
             "linecolor": "white",
             "minorgridcolor": "white",
             "startlinecolor": "#2a3f5f"
            },
            "baxis": {
             "endlinecolor": "#2a3f5f",
             "gridcolor": "white",
             "linecolor": "white",
             "minorgridcolor": "white",
             "startlinecolor": "#2a3f5f"
            },
            "type": "carpet"
           }
          ],
          "choropleth": [
           {
            "colorbar": {
             "outlinewidth": 0,
             "ticks": ""
            },
            "type": "choropleth"
           }
          ],
          "contour": [
           {
            "colorbar": {
             "outlinewidth": 0,
             "ticks": ""
            },
            "colorscale": [
             [
              0,
              "#0d0887"
             ],
             [
              0.1111111111111111,
              "#46039f"
             ],
             [
              0.2222222222222222,
              "#7201a8"
             ],
             [
              0.3333333333333333,
              "#9c179e"
             ],
             [
              0.4444444444444444,
              "#bd3786"
             ],
             [
              0.5555555555555556,
              "#d8576b"
             ],
             [
              0.6666666666666666,
              "#ed7953"
             ],
             [
              0.7777777777777778,
              "#fb9f3a"
             ],
             [
              0.8888888888888888,
              "#fdca26"
             ],
             [
              1,
              "#f0f921"
             ]
            ],
            "type": "contour"
           }
          ],
          "contourcarpet": [
           {
            "colorbar": {
             "outlinewidth": 0,
             "ticks": ""
            },
            "type": "contourcarpet"
           }
          ],
          "heatmap": [
           {
            "colorbar": {
             "outlinewidth": 0,
             "ticks": ""
            },
            "colorscale": [
             [
              0,
              "#0d0887"
             ],
             [
              0.1111111111111111,
              "#46039f"
             ],
             [
              0.2222222222222222,
              "#7201a8"
             ],
             [
              0.3333333333333333,
              "#9c179e"
             ],
             [
              0.4444444444444444,
              "#bd3786"
             ],
             [
              0.5555555555555556,
              "#d8576b"
             ],
             [
              0.6666666666666666,
              "#ed7953"
             ],
             [
              0.7777777777777778,
              "#fb9f3a"
             ],
             [
              0.8888888888888888,
              "#fdca26"
             ],
             [
              1,
              "#f0f921"
             ]
            ],
            "type": "heatmap"
           }
          ],
          "heatmapgl": [
           {
            "colorbar": {
             "outlinewidth": 0,
             "ticks": ""
            },
            "colorscale": [
             [
              0,
              "#0d0887"
             ],
             [
              0.1111111111111111,
              "#46039f"
             ],
             [
              0.2222222222222222,
              "#7201a8"
             ],
             [
              0.3333333333333333,
              "#9c179e"
             ],
             [
              0.4444444444444444,
              "#bd3786"
             ],
             [
              0.5555555555555556,
              "#d8576b"
             ],
             [
              0.6666666666666666,
              "#ed7953"
             ],
             [
              0.7777777777777778,
              "#fb9f3a"
             ],
             [
              0.8888888888888888,
              "#fdca26"
             ],
             [
              1,
              "#f0f921"
             ]
            ],
            "type": "heatmapgl"
           }
          ],
          "histogram": [
           {
            "marker": {
             "colorbar": {
              "outlinewidth": 0,
              "ticks": ""
             }
            },
            "type": "histogram"
           }
          ],
          "histogram2d": [
           {
            "colorbar": {
             "outlinewidth": 0,
             "ticks": ""
            },
            "colorscale": [
             [
              0,
              "#0d0887"
             ],
             [
              0.1111111111111111,
              "#46039f"
             ],
             [
              0.2222222222222222,
              "#7201a8"
             ],
             [
              0.3333333333333333,
              "#9c179e"
             ],
             [
              0.4444444444444444,
              "#bd3786"
             ],
             [
              0.5555555555555556,
              "#d8576b"
             ],
             [
              0.6666666666666666,
              "#ed7953"
             ],
             [
              0.7777777777777778,
              "#fb9f3a"
             ],
             [
              0.8888888888888888,
              "#fdca26"
             ],
             [
              1,
              "#f0f921"
             ]
            ],
            "type": "histogram2d"
           }
          ],
          "histogram2dcontour": [
           {
            "colorbar": {
             "outlinewidth": 0,
             "ticks": ""
            },
            "colorscale": [
             [
              0,
              "#0d0887"
             ],
             [
              0.1111111111111111,
              "#46039f"
             ],
             [
              0.2222222222222222,
              "#7201a8"
             ],
             [
              0.3333333333333333,
              "#9c179e"
             ],
             [
              0.4444444444444444,
              "#bd3786"
             ],
             [
              0.5555555555555556,
              "#d8576b"
             ],
             [
              0.6666666666666666,
              "#ed7953"
             ],
             [
              0.7777777777777778,
              "#fb9f3a"
             ],
             [
              0.8888888888888888,
              "#fdca26"
             ],
             [
              1,
              "#f0f921"
             ]
            ],
            "type": "histogram2dcontour"
           }
          ],
          "mesh3d": [
           {
            "colorbar": {
             "outlinewidth": 0,
             "ticks": ""
            },
            "type": "mesh3d"
           }
          ],
          "parcoords": [
           {
            "line": {
             "colorbar": {
              "outlinewidth": 0,
              "ticks": ""
             }
            },
            "type": "parcoords"
           }
          ],
          "pie": [
           {
            "automargin": true,
            "type": "pie"
           }
          ],
          "scatter": [
           {
            "marker": {
             "colorbar": {
              "outlinewidth": 0,
              "ticks": ""
             }
            },
            "type": "scatter"
           }
          ],
          "scatter3d": [
           {
            "line": {
             "colorbar": {
              "outlinewidth": 0,
              "ticks": ""
             }
            },
            "marker": {
             "colorbar": {
              "outlinewidth": 0,
              "ticks": ""
             }
            },
            "type": "scatter3d"
           }
          ],
          "scattercarpet": [
           {
            "marker": {
             "colorbar": {
              "outlinewidth": 0,
              "ticks": ""
             }
            },
            "type": "scattercarpet"
           }
          ],
          "scattergeo": [
           {
            "marker": {
             "colorbar": {
              "outlinewidth": 0,
              "ticks": ""
             }
            },
            "type": "scattergeo"
           }
          ],
          "scattergl": [
           {
            "marker": {
             "colorbar": {
              "outlinewidth": 0,
              "ticks": ""
             }
            },
            "type": "scattergl"
           }
          ],
          "scattermapbox": [
           {
            "marker": {
             "colorbar": {
              "outlinewidth": 0,
              "ticks": ""
             }
            },
            "type": "scattermapbox"
           }
          ],
          "scatterpolar": [
           {
            "marker": {
             "colorbar": {
              "outlinewidth": 0,
              "ticks": ""
             }
            },
            "type": "scatterpolar"
           }
          ],
          "scatterpolargl": [
           {
            "marker": {
             "colorbar": {
              "outlinewidth": 0,
              "ticks": ""
             }
            },
            "type": "scatterpolargl"
           }
          ],
          "scatterternary": [
           {
            "marker": {
             "colorbar": {
              "outlinewidth": 0,
              "ticks": ""
             }
            },
            "type": "scatterternary"
           }
          ],
          "surface": [
           {
            "colorbar": {
             "outlinewidth": 0,
             "ticks": ""
            },
            "colorscale": [
             [
              0,
              "#0d0887"
             ],
             [
              0.1111111111111111,
              "#46039f"
             ],
             [
              0.2222222222222222,
              "#7201a8"
             ],
             [
              0.3333333333333333,
              "#9c179e"
             ],
             [
              0.4444444444444444,
              "#bd3786"
             ],
             [
              0.5555555555555556,
              "#d8576b"
             ],
             [
              0.6666666666666666,
              "#ed7953"
             ],
             [
              0.7777777777777778,
              "#fb9f3a"
             ],
             [
              0.8888888888888888,
              "#fdca26"
             ],
             [
              1,
              "#f0f921"
             ]
            ],
            "type": "surface"
           }
          ],
          "table": [
           {
            "cells": {
             "fill": {
              "color": "#EBF0F8"
             },
             "line": {
              "color": "white"
             }
            },
            "header": {
             "fill": {
              "color": "#C8D4E3"
             },
             "line": {
              "color": "white"
             }
            },
            "type": "table"
           }
          ]
         },
         "layout": {
          "annotationdefaults": {
           "arrowcolor": "#2a3f5f",
           "arrowhead": 0,
           "arrowwidth": 1
          },
          "coloraxis": {
           "colorbar": {
            "outlinewidth": 0,
            "ticks": ""
           }
          },
          "colorscale": {
           "diverging": [
            [
             0,
             "#8e0152"
            ],
            [
             0.1,
             "#c51b7d"
            ],
            [
             0.2,
             "#de77ae"
            ],
            [
             0.3,
             "#f1b6da"
            ],
            [
             0.4,
             "#fde0ef"
            ],
            [
             0.5,
             "#f7f7f7"
            ],
            [
             0.6,
             "#e6f5d0"
            ],
            [
             0.7,
             "#b8e186"
            ],
            [
             0.8,
             "#7fbc41"
            ],
            [
             0.9,
             "#4d9221"
            ],
            [
             1,
             "#276419"
            ]
           ],
           "sequential": [
            [
             0,
             "#0d0887"
            ],
            [
             0.1111111111111111,
             "#46039f"
            ],
            [
             0.2222222222222222,
             "#7201a8"
            ],
            [
             0.3333333333333333,
             "#9c179e"
            ],
            [
             0.4444444444444444,
             "#bd3786"
            ],
            [
             0.5555555555555556,
             "#d8576b"
            ],
            [
             0.6666666666666666,
             "#ed7953"
            ],
            [
             0.7777777777777778,
             "#fb9f3a"
            ],
            [
             0.8888888888888888,
             "#fdca26"
            ],
            [
             1,
             "#f0f921"
            ]
           ],
           "sequentialminus": [
            [
             0,
             "#0d0887"
            ],
            [
             0.1111111111111111,
             "#46039f"
            ],
            [
             0.2222222222222222,
             "#7201a8"
            ],
            [
             0.3333333333333333,
             "#9c179e"
            ],
            [
             0.4444444444444444,
             "#bd3786"
            ],
            [
             0.5555555555555556,
             "#d8576b"
            ],
            [
             0.6666666666666666,
             "#ed7953"
            ],
            [
             0.7777777777777778,
             "#fb9f3a"
            ],
            [
             0.8888888888888888,
             "#fdca26"
            ],
            [
             1,
             "#f0f921"
            ]
           ]
          },
          "colorway": [
           "#636efa",
           "#EF553B",
           "#00cc96",
           "#ab63fa",
           "#FFA15A",
           "#19d3f3",
           "#FF6692",
           "#B6E880",
           "#FF97FF",
           "#FECB52"
          ],
          "font": {
           "color": "#2a3f5f"
          },
          "geo": {
           "bgcolor": "white",
           "lakecolor": "white",
           "landcolor": "#E5ECF6",
           "showlakes": true,
           "showland": true,
           "subunitcolor": "white"
          },
          "hoverlabel": {
           "align": "left"
          },
          "hovermode": "closest",
          "mapbox": {
           "style": "light"
          },
          "paper_bgcolor": "white",
          "plot_bgcolor": "#E5ECF6",
          "polar": {
           "angularaxis": {
            "gridcolor": "white",
            "linecolor": "white",
            "ticks": ""
           },
           "bgcolor": "#E5ECF6",
           "radialaxis": {
            "gridcolor": "white",
            "linecolor": "white",
            "ticks": ""
           }
          },
          "scene": {
           "xaxis": {
            "backgroundcolor": "#E5ECF6",
            "gridcolor": "white",
            "gridwidth": 2,
            "linecolor": "white",
            "showbackground": true,
            "ticks": "",
            "zerolinecolor": "white"
           },
           "yaxis": {
            "backgroundcolor": "#E5ECF6",
            "gridcolor": "white",
            "gridwidth": 2,
            "linecolor": "white",
            "showbackground": true,
            "ticks": "",
            "zerolinecolor": "white"
           },
           "zaxis": {
            "backgroundcolor": "#E5ECF6",
            "gridcolor": "white",
            "gridwidth": 2,
            "linecolor": "white",
            "showbackground": true,
            "ticks": "",
            "zerolinecolor": "white"
           }
          },
          "shapedefaults": {
           "line": {
            "color": "#2a3f5f"
           }
          },
          "ternary": {
           "aaxis": {
            "gridcolor": "white",
            "linecolor": "white",
            "ticks": ""
           },
           "baxis": {
            "gridcolor": "white",
            "linecolor": "white",
            "ticks": ""
           },
           "bgcolor": "#E5ECF6",
           "caxis": {
            "gridcolor": "white",
            "linecolor": "white",
            "ticks": ""
           }
          },
          "title": {
           "x": 0.05
          },
          "xaxis": {
           "automargin": true,
           "gridcolor": "white",
           "linecolor": "white",
           "ticks": "",
           "title": {
            "standoff": 15
           },
           "zerolinecolor": "white",
           "zerolinewidth": 2
          },
          "yaxis": {
           "automargin": true,
           "gridcolor": "white",
           "linecolor": "white",
           "ticks": "",
           "title": {
            "standoff": 15
           },
           "zerolinecolor": "white",
           "zerolinewidth": 2
          }
         }
        },
        "xaxis": {
         "anchor": "y",
         "domain": [
          0,
          1
         ],
         "title": {
          "text": "date"
         }
        },
        "yaxis": {
         "anchor": "x",
         "domain": [
          0,
          1
         ],
         "title": {
          "text": "dif"
         }
        }
       }
      }
     },
     "metadata": {}
    }
   ],
   "source": [
    "#calc change in issue count by date\n",
    "by_date['dif'] = by_date['count'].diff()\n",
    "\n",
    "fig = px.bar(by_date, x='date', y=\"dif\")\n",
    "fig.show()"
   ]
  },
  {
   "cell_type": "code",
   "execution_count": null,
   "metadata": {},
   "outputs": [],
   "source": []
  }
 ]
}